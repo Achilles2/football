{
 "cells": [
  {
   "cell_type": "code",
   "execution_count": 32,
   "metadata": {},
   "outputs": [],
   "source": [
    "import pandas as pd\n",
    "from IPython.core.display_functions import display\n",
    "from pandas import DataFrame, json_normalize\n",
    "from utils import num_of_round, is_allowed_round, response_from_json\n",
    "\n",
    "FILE_NAME = 'data/league39_season2020.json'\n",
    "response = response_from_json(file_name=FILE_NAME)"
   ]
  },
  {
   "cell_type": "code",
   "execution_count": 33,
   "outputs": [
    {
     "data": {
      "text/plain": "     fixture.id           fixture.referee fixture.timezone  \\\n0        592141                 K. Friend              UTC   \n1        592142                   J. Moss              UTC   \n2        592143               C. Kavanagh              UTC   \n3        592144                 M. Oliver              UTC   \n4        592145                   J. Moss              UTC   \n..          ...                       ...              ...   \n375      592871   Andre Marriner, England              UTC   \n376      592872   Michael Oliver, England              UTC   \n377      592873     Kevin Friend, England              UTC   \n378      592874  Martin Atkinson, England              UTC   \n379      592875        Mike Dean, England              UTC   \n\n                  fixture.date  fixture.timestamp  fixture.periods.first  \\\n0    2021-01-12T20:15:00+00:00         1610482500             1610482500   \n1    2020-09-12T14:00:00+00:00         1599919200             1599919200   \n2    2020-09-12T11:30:00+00:00         1599910200             1599910200   \n3    2020-09-12T16:30:00+00:00         1599928200             1599928200   \n4    2021-01-20T18:00:00+00:00         1611165600             1611165600   \n..                         ...                ...                    ...   \n375  2021-05-23T15:00:00+00:00         1621782000             1621782000   \n376  2021-05-23T15:00:00+00:00         1621782000             1621782000   \n377  2021-05-23T15:00:00+00:00         1621782000             1621782000   \n378  2021-05-23T15:00:00+00:00         1621782000             1621782000   \n379  2021-05-23T15:00:00+00:00         1621782000             1621782000   \n\n     fixture.periods.second  fixture.venue.id fixture.venue.name  \\\n0                1610486100               512          Turf Moor   \n1                1599922800               525      Selhurst Park   \n2                1599913800               535     Craven Cottage   \n3                1599931800               550            Anfield   \n4                1611169200               555     Etihad Stadium   \n..                      ...               ...                ...   \n375              1621785600               550            Anfield   \n376              1621785600               555     Etihad Stadium   \n377              1621785600               581       Bramall Lane   \n378              1621785600               598     London Stadium   \n379              1621785600               600   Molineux Stadium   \n\n               fixture.venue.city  ... goals.home goals.away  \\\n0                         Burnley  ...          0          1   \n1                          London  ...          1          0   \n2                          London  ...          0          3   \n3                       Liverpool  ...          4          3   \n4                      Manchester  ...          2          0   \n..                            ...  ...        ...        ...   \n375                     Liverpool  ...          2          0   \n376                    Manchester  ...          5          0   \n377                     Sheffield  ...          1          0   \n378                        London  ...          3          0   \n379  Wolverhampton, West Midlands  ...          1          2   \n\n     score.halftime.home  score.halftime.away score.fulltime.home  \\\n0                      0                    0                   0   \n1                      1                    0                   1   \n2                      0                    1                   0   \n3                      3                    2                   4   \n4                      0                    0                   2   \n..                   ...                  ...                 ...   \n375                    1                    0                   2   \n376                    2                    0                   5   \n377                    1                    0                   1   \n378                    2                    0                   3   \n379                    1                    2                   1   \n\n    score.fulltime.away score.extratime.home score.extratime.away  \\\n0                     1                 None                 None   \n1                     0                 None                 None   \n2                     3                 None                 None   \n3                     3                 None                 None   \n4                     0                 None                 None   \n..                  ...                  ...                  ...   \n375                   0                 None                 None   \n376                   0                 None                 None   \n377                   0                 None                 None   \n378                   0                 None                 None   \n379                   2                 None                 None   \n\n     score.penalty.home score.penalty.away  \n0                  None               None  \n1                  None               None  \n2                  None               None  \n3                  None               None  \n4                  None               None  \n..                  ...                ...  \n375                None               None  \n376                None               None  \n377                None               None  \n378                None               None  \n379                None               None  \n\n[380 rows x 38 columns]",
      "text/html": "<div>\n<style scoped>\n    .dataframe tbody tr th:only-of-type {\n        vertical-align: middle;\n    }\n\n    .dataframe tbody tr th {\n        vertical-align: top;\n    }\n\n    .dataframe thead th {\n        text-align: right;\n    }\n</style>\n<table border=\"1\" class=\"dataframe\">\n  <thead>\n    <tr style=\"text-align: right;\">\n      <th></th>\n      <th>fixture.id</th>\n      <th>fixture.referee</th>\n      <th>fixture.timezone</th>\n      <th>fixture.date</th>\n      <th>fixture.timestamp</th>\n      <th>fixture.periods.first</th>\n      <th>fixture.periods.second</th>\n      <th>fixture.venue.id</th>\n      <th>fixture.venue.name</th>\n      <th>fixture.venue.city</th>\n      <th>...</th>\n      <th>goals.home</th>\n      <th>goals.away</th>\n      <th>score.halftime.home</th>\n      <th>score.halftime.away</th>\n      <th>score.fulltime.home</th>\n      <th>score.fulltime.away</th>\n      <th>score.extratime.home</th>\n      <th>score.extratime.away</th>\n      <th>score.penalty.home</th>\n      <th>score.penalty.away</th>\n    </tr>\n  </thead>\n  <tbody>\n    <tr>\n      <th>0</th>\n      <td>592141</td>\n      <td>K. Friend</td>\n      <td>UTC</td>\n      <td>2021-01-12T20:15:00+00:00</td>\n      <td>1610482500</td>\n      <td>1610482500</td>\n      <td>1610486100</td>\n      <td>512</td>\n      <td>Turf Moor</td>\n      <td>Burnley</td>\n      <td>...</td>\n      <td>0</td>\n      <td>1</td>\n      <td>0</td>\n      <td>0</td>\n      <td>0</td>\n      <td>1</td>\n      <td>None</td>\n      <td>None</td>\n      <td>None</td>\n      <td>None</td>\n    </tr>\n    <tr>\n      <th>1</th>\n      <td>592142</td>\n      <td>J. Moss</td>\n      <td>UTC</td>\n      <td>2020-09-12T14:00:00+00:00</td>\n      <td>1599919200</td>\n      <td>1599919200</td>\n      <td>1599922800</td>\n      <td>525</td>\n      <td>Selhurst Park</td>\n      <td>London</td>\n      <td>...</td>\n      <td>1</td>\n      <td>0</td>\n      <td>1</td>\n      <td>0</td>\n      <td>1</td>\n      <td>0</td>\n      <td>None</td>\n      <td>None</td>\n      <td>None</td>\n      <td>None</td>\n    </tr>\n    <tr>\n      <th>2</th>\n      <td>592143</td>\n      <td>C. Kavanagh</td>\n      <td>UTC</td>\n      <td>2020-09-12T11:30:00+00:00</td>\n      <td>1599910200</td>\n      <td>1599910200</td>\n      <td>1599913800</td>\n      <td>535</td>\n      <td>Craven Cottage</td>\n      <td>London</td>\n      <td>...</td>\n      <td>0</td>\n      <td>3</td>\n      <td>0</td>\n      <td>1</td>\n      <td>0</td>\n      <td>3</td>\n      <td>None</td>\n      <td>None</td>\n      <td>None</td>\n      <td>None</td>\n    </tr>\n    <tr>\n      <th>3</th>\n      <td>592144</td>\n      <td>M. Oliver</td>\n      <td>UTC</td>\n      <td>2020-09-12T16:30:00+00:00</td>\n      <td>1599928200</td>\n      <td>1599928200</td>\n      <td>1599931800</td>\n      <td>550</td>\n      <td>Anfield</td>\n      <td>Liverpool</td>\n      <td>...</td>\n      <td>4</td>\n      <td>3</td>\n      <td>3</td>\n      <td>2</td>\n      <td>4</td>\n      <td>3</td>\n      <td>None</td>\n      <td>None</td>\n      <td>None</td>\n      <td>None</td>\n    </tr>\n    <tr>\n      <th>4</th>\n      <td>592145</td>\n      <td>J. Moss</td>\n      <td>UTC</td>\n      <td>2021-01-20T18:00:00+00:00</td>\n      <td>1611165600</td>\n      <td>1611165600</td>\n      <td>1611169200</td>\n      <td>555</td>\n      <td>Etihad Stadium</td>\n      <td>Manchester</td>\n      <td>...</td>\n      <td>2</td>\n      <td>0</td>\n      <td>0</td>\n      <td>0</td>\n      <td>2</td>\n      <td>0</td>\n      <td>None</td>\n      <td>None</td>\n      <td>None</td>\n      <td>None</td>\n    </tr>\n    <tr>\n      <th>...</th>\n      <td>...</td>\n      <td>...</td>\n      <td>...</td>\n      <td>...</td>\n      <td>...</td>\n      <td>...</td>\n      <td>...</td>\n      <td>...</td>\n      <td>...</td>\n      <td>...</td>\n      <td>...</td>\n      <td>...</td>\n      <td>...</td>\n      <td>...</td>\n      <td>...</td>\n      <td>...</td>\n      <td>...</td>\n      <td>...</td>\n      <td>...</td>\n      <td>...</td>\n      <td>...</td>\n    </tr>\n    <tr>\n      <th>375</th>\n      <td>592871</td>\n      <td>Andre Marriner, England</td>\n      <td>UTC</td>\n      <td>2021-05-23T15:00:00+00:00</td>\n      <td>1621782000</td>\n      <td>1621782000</td>\n      <td>1621785600</td>\n      <td>550</td>\n      <td>Anfield</td>\n      <td>Liverpool</td>\n      <td>...</td>\n      <td>2</td>\n      <td>0</td>\n      <td>1</td>\n      <td>0</td>\n      <td>2</td>\n      <td>0</td>\n      <td>None</td>\n      <td>None</td>\n      <td>None</td>\n      <td>None</td>\n    </tr>\n    <tr>\n      <th>376</th>\n      <td>592872</td>\n      <td>Michael Oliver, England</td>\n      <td>UTC</td>\n      <td>2021-05-23T15:00:00+00:00</td>\n      <td>1621782000</td>\n      <td>1621782000</td>\n      <td>1621785600</td>\n      <td>555</td>\n      <td>Etihad Stadium</td>\n      <td>Manchester</td>\n      <td>...</td>\n      <td>5</td>\n      <td>0</td>\n      <td>2</td>\n      <td>0</td>\n      <td>5</td>\n      <td>0</td>\n      <td>None</td>\n      <td>None</td>\n      <td>None</td>\n      <td>None</td>\n    </tr>\n    <tr>\n      <th>377</th>\n      <td>592873</td>\n      <td>Kevin Friend, England</td>\n      <td>UTC</td>\n      <td>2021-05-23T15:00:00+00:00</td>\n      <td>1621782000</td>\n      <td>1621782000</td>\n      <td>1621785600</td>\n      <td>581</td>\n      <td>Bramall Lane</td>\n      <td>Sheffield</td>\n      <td>...</td>\n      <td>1</td>\n      <td>0</td>\n      <td>1</td>\n      <td>0</td>\n      <td>1</td>\n      <td>0</td>\n      <td>None</td>\n      <td>None</td>\n      <td>None</td>\n      <td>None</td>\n    </tr>\n    <tr>\n      <th>378</th>\n      <td>592874</td>\n      <td>Martin Atkinson, England</td>\n      <td>UTC</td>\n      <td>2021-05-23T15:00:00+00:00</td>\n      <td>1621782000</td>\n      <td>1621782000</td>\n      <td>1621785600</td>\n      <td>598</td>\n      <td>London Stadium</td>\n      <td>London</td>\n      <td>...</td>\n      <td>3</td>\n      <td>0</td>\n      <td>2</td>\n      <td>0</td>\n      <td>3</td>\n      <td>0</td>\n      <td>None</td>\n      <td>None</td>\n      <td>None</td>\n      <td>None</td>\n    </tr>\n    <tr>\n      <th>379</th>\n      <td>592875</td>\n      <td>Mike Dean, England</td>\n      <td>UTC</td>\n      <td>2021-05-23T15:00:00+00:00</td>\n      <td>1621782000</td>\n      <td>1621782000</td>\n      <td>1621785600</td>\n      <td>600</td>\n      <td>Molineux Stadium</td>\n      <td>Wolverhampton, West Midlands</td>\n      <td>...</td>\n      <td>1</td>\n      <td>2</td>\n      <td>1</td>\n      <td>2</td>\n      <td>1</td>\n      <td>2</td>\n      <td>None</td>\n      <td>None</td>\n      <td>None</td>\n      <td>None</td>\n    </tr>\n  </tbody>\n</table>\n<p>380 rows × 38 columns</p>\n</div>"
     },
     "execution_count": 33,
     "metadata": {},
     "output_type": "execute_result"
    }
   ],
   "source": [
    "all_response_data = json_normalize(data=response)\n",
    "all_response_data = all_response_data.astype(\n",
    "    {'goals.away': 'Int64', 'goals.home': 'Int64'}, errors='ignore')\n",
    "all_response_data"
   ],
   "metadata": {
    "collapsed": false,
    "pycharm": {
     "name": "#%%\n"
    }
   }
  },
  {
   "cell_type": "code",
   "execution_count": 34,
   "outputs": [
    {
     "data": {
      "text/plain": "                host              guest  goals_host  goals_guest  round\n0            Burnley  Manchester United           0            1      1\n1     Crystal Palace        Southampton           1            0      1\n2             Fulham            Arsenal           0            3      1\n3          Liverpool              Leeds           4            3      1\n4    Manchester City        Aston Villa           2            0      1\n..               ...                ...         ...          ...    ...\n375        Liverpool     Crystal Palace           2            0     38\n376  Manchester City            Everton           5            0     38\n377    Sheffield Utd            Burnley           1            0     38\n378         West Ham        Southampton           3            0     38\n379           Wolves  Manchester United           1            2     38\n\n[380 rows x 5 columns]",
      "text/html": "<div>\n<style scoped>\n    .dataframe tbody tr th:only-of-type {\n        vertical-align: middle;\n    }\n\n    .dataframe tbody tr th {\n        vertical-align: top;\n    }\n\n    .dataframe thead th {\n        text-align: right;\n    }\n</style>\n<table border=\"1\" class=\"dataframe\">\n  <thead>\n    <tr style=\"text-align: right;\">\n      <th></th>\n      <th>host</th>\n      <th>guest</th>\n      <th>goals_host</th>\n      <th>goals_guest</th>\n      <th>round</th>\n    </tr>\n  </thead>\n  <tbody>\n    <tr>\n      <th>0</th>\n      <td>Burnley</td>\n      <td>Manchester United</td>\n      <td>0</td>\n      <td>1</td>\n      <td>1</td>\n    </tr>\n    <tr>\n      <th>1</th>\n      <td>Crystal Palace</td>\n      <td>Southampton</td>\n      <td>1</td>\n      <td>0</td>\n      <td>1</td>\n    </tr>\n    <tr>\n      <th>2</th>\n      <td>Fulham</td>\n      <td>Arsenal</td>\n      <td>0</td>\n      <td>3</td>\n      <td>1</td>\n    </tr>\n    <tr>\n      <th>3</th>\n      <td>Liverpool</td>\n      <td>Leeds</td>\n      <td>4</td>\n      <td>3</td>\n      <td>1</td>\n    </tr>\n    <tr>\n      <th>4</th>\n      <td>Manchester City</td>\n      <td>Aston Villa</td>\n      <td>2</td>\n      <td>0</td>\n      <td>1</td>\n    </tr>\n    <tr>\n      <th>...</th>\n      <td>...</td>\n      <td>...</td>\n      <td>...</td>\n      <td>...</td>\n      <td>...</td>\n    </tr>\n    <tr>\n      <th>375</th>\n      <td>Liverpool</td>\n      <td>Crystal Palace</td>\n      <td>2</td>\n      <td>0</td>\n      <td>38</td>\n    </tr>\n    <tr>\n      <th>376</th>\n      <td>Manchester City</td>\n      <td>Everton</td>\n      <td>5</td>\n      <td>0</td>\n      <td>38</td>\n    </tr>\n    <tr>\n      <th>377</th>\n      <td>Sheffield Utd</td>\n      <td>Burnley</td>\n      <td>1</td>\n      <td>0</td>\n      <td>38</td>\n    </tr>\n    <tr>\n      <th>378</th>\n      <td>West Ham</td>\n      <td>Southampton</td>\n      <td>3</td>\n      <td>0</td>\n      <td>38</td>\n    </tr>\n    <tr>\n      <th>379</th>\n      <td>Wolves</td>\n      <td>Manchester United</td>\n      <td>1</td>\n      <td>2</td>\n      <td>38</td>\n    </tr>\n  </tbody>\n</table>\n<p>380 rows × 5 columns</p>\n</div>"
     },
     "execution_count": 34,
     "metadata": {},
     "output_type": "execute_result"
    }
   ],
   "source": [
    "COLUMN_NAMES_DICT = {'teams.home.name': 'host',\n",
    "                     'teams.away.name': 'guest',\n",
    "                     'goals.home': 'goals_host',\n",
    "                     'goals.away': 'goals_guest',\n",
    "                     'league.round': 'round'}\n",
    "\n",
    "all_games = all_response_data[COLUMN_NAMES_DICT.keys()]\n",
    "all_games = all_games.rename(columns=COLUMN_NAMES_DICT)\n",
    "all_games['round'] = all_games['round'].apply(lambda s: num_of_round(s))\n",
    "all_games"
   ],
   "metadata": {
    "collapsed": false,
    "pycharm": {
     "name": "#%%\n"
    }
   }
  },
  {
   "cell_type": "code",
   "execution_count": 35,
   "outputs": [
    {
     "data": {
      "text/plain": "                  host           guest  goals_host  goals_guest  round\n60         Aston Villa     Southampton           3            4      7\n61             Burnley         Chelsea           0            3      7\n62              Fulham       West Brom           2            0      7\n63               Leeds       Leicester           1            4      7\n64           Liverpool        West Ham           2            1      7\n..                 ...             ...         ...          ...    ...\n315          Leicester       West Brom           3            0     32\n316  Manchester United         Burnley           3            1     32\n317          Newcastle        West Ham           3            2     32\n318        Southampton  Crystal Palace           3            1     32\n319             Wolves   Sheffield Utd           1            0     32\n\n[260 rows x 5 columns]",
      "text/html": "<div>\n<style scoped>\n    .dataframe tbody tr th:only-of-type {\n        vertical-align: middle;\n    }\n\n    .dataframe tbody tr th {\n        vertical-align: top;\n    }\n\n    .dataframe thead th {\n        text-align: right;\n    }\n</style>\n<table border=\"1\" class=\"dataframe\">\n  <thead>\n    <tr style=\"text-align: right;\">\n      <th></th>\n      <th>host</th>\n      <th>guest</th>\n      <th>goals_host</th>\n      <th>goals_guest</th>\n      <th>round</th>\n    </tr>\n  </thead>\n  <tbody>\n    <tr>\n      <th>60</th>\n      <td>Aston Villa</td>\n      <td>Southampton</td>\n      <td>3</td>\n      <td>4</td>\n      <td>7</td>\n    </tr>\n    <tr>\n      <th>61</th>\n      <td>Burnley</td>\n      <td>Chelsea</td>\n      <td>0</td>\n      <td>3</td>\n      <td>7</td>\n    </tr>\n    <tr>\n      <th>62</th>\n      <td>Fulham</td>\n      <td>West Brom</td>\n      <td>2</td>\n      <td>0</td>\n      <td>7</td>\n    </tr>\n    <tr>\n      <th>63</th>\n      <td>Leeds</td>\n      <td>Leicester</td>\n      <td>1</td>\n      <td>4</td>\n      <td>7</td>\n    </tr>\n    <tr>\n      <th>64</th>\n      <td>Liverpool</td>\n      <td>West Ham</td>\n      <td>2</td>\n      <td>1</td>\n      <td>7</td>\n    </tr>\n    <tr>\n      <th>...</th>\n      <td>...</td>\n      <td>...</td>\n      <td>...</td>\n      <td>...</td>\n      <td>...</td>\n    </tr>\n    <tr>\n      <th>315</th>\n      <td>Leicester</td>\n      <td>West Brom</td>\n      <td>3</td>\n      <td>0</td>\n      <td>32</td>\n    </tr>\n    <tr>\n      <th>316</th>\n      <td>Manchester United</td>\n      <td>Burnley</td>\n      <td>3</td>\n      <td>1</td>\n      <td>32</td>\n    </tr>\n    <tr>\n      <th>317</th>\n      <td>Newcastle</td>\n      <td>West Ham</td>\n      <td>3</td>\n      <td>2</td>\n      <td>32</td>\n    </tr>\n    <tr>\n      <th>318</th>\n      <td>Southampton</td>\n      <td>Crystal Palace</td>\n      <td>3</td>\n      <td>1</td>\n      <td>32</td>\n    </tr>\n    <tr>\n      <th>319</th>\n      <td>Wolves</td>\n      <td>Sheffield Utd</td>\n      <td>1</td>\n      <td>0</td>\n      <td>32</td>\n    </tr>\n  </tbody>\n</table>\n<p>260 rows × 5 columns</p>\n</div>"
     },
     "execution_count": 35,
     "metadata": {},
     "output_type": "execute_result"
    }
   ],
   "source": [
    "games_allowed = all_games[all_games[\"round\"].apply(lambda n: is_allowed_round(n))]\n",
    "games_allowed"
   ],
   "metadata": {
    "collapsed": false,
    "pycharm": {
     "name": "#%%\n"
    }
   }
  },
  {
   "cell_type": "code",
   "execution_count": 36,
   "outputs": [
    {
     "data": {
      "text/plain": "               host              guest  goals_host  goals_guest  round\n70          Arsenal        Aston Villa           0            3      8\n71         Brighton            Burnley           0            0      8\n72          Chelsea      Sheffield Utd           4            1      8\n73   Crystal Palace              Leeds           4            1      8\n74          Everton  Manchester United           1            3      8\n75        Leicester             Wolves           1            0      8\n76  Manchester City          Liverpool           1            1      8\n77      Southampton          Newcastle           2            0      8\n78        West Brom          Tottenham           0            1      8\n79         West Ham             Fulham           1            0      8",
      "text/html": "<div>\n<style scoped>\n    .dataframe tbody tr th:only-of-type {\n        vertical-align: middle;\n    }\n\n    .dataframe tbody tr th {\n        vertical-align: top;\n    }\n\n    .dataframe thead th {\n        text-align: right;\n    }\n</style>\n<table border=\"1\" class=\"dataframe\">\n  <thead>\n    <tr style=\"text-align: right;\">\n      <th></th>\n      <th>host</th>\n      <th>guest</th>\n      <th>goals_host</th>\n      <th>goals_guest</th>\n      <th>round</th>\n    </tr>\n  </thead>\n  <tbody>\n    <tr>\n      <th>70</th>\n      <td>Arsenal</td>\n      <td>Aston Villa</td>\n      <td>0</td>\n      <td>3</td>\n      <td>8</td>\n    </tr>\n    <tr>\n      <th>71</th>\n      <td>Brighton</td>\n      <td>Burnley</td>\n      <td>0</td>\n      <td>0</td>\n      <td>8</td>\n    </tr>\n    <tr>\n      <th>72</th>\n      <td>Chelsea</td>\n      <td>Sheffield Utd</td>\n      <td>4</td>\n      <td>1</td>\n      <td>8</td>\n    </tr>\n    <tr>\n      <th>73</th>\n      <td>Crystal Palace</td>\n      <td>Leeds</td>\n      <td>4</td>\n      <td>1</td>\n      <td>8</td>\n    </tr>\n    <tr>\n      <th>74</th>\n      <td>Everton</td>\n      <td>Manchester United</td>\n      <td>1</td>\n      <td>3</td>\n      <td>8</td>\n    </tr>\n    <tr>\n      <th>75</th>\n      <td>Leicester</td>\n      <td>Wolves</td>\n      <td>1</td>\n      <td>0</td>\n      <td>8</td>\n    </tr>\n    <tr>\n      <th>76</th>\n      <td>Manchester City</td>\n      <td>Liverpool</td>\n      <td>1</td>\n      <td>1</td>\n      <td>8</td>\n    </tr>\n    <tr>\n      <th>77</th>\n      <td>Southampton</td>\n      <td>Newcastle</td>\n      <td>2</td>\n      <td>0</td>\n      <td>8</td>\n    </tr>\n    <tr>\n      <th>78</th>\n      <td>West Brom</td>\n      <td>Tottenham</td>\n      <td>0</td>\n      <td>1</td>\n      <td>8</td>\n    </tr>\n    <tr>\n      <th>79</th>\n      <td>West Ham</td>\n      <td>Fulham</td>\n      <td>1</td>\n      <td>0</td>\n      <td>8</td>\n    </tr>\n  </tbody>\n</table>\n</div>"
     },
     "execution_count": 36,
     "metadata": {},
     "output_type": "execute_result"
    }
   ],
   "source": [
    "games_allowed[ games_allowed['round'] == 8 ]"
   ],
   "metadata": {
    "collapsed": false,
    "pycharm": {
     "name": "#%%\n"
    }
   }
  },
  {
   "cell_type": "code",
   "execution_count": 37,
   "outputs": [
    {
     "data": {
      "text/plain": "                 team  GF_as_any  GA_as_any  GF_as_host  GA_as_host  \\\n0             Arsenal         36         29          15          16   \n1         Aston Villa         32         28          16          16   \n2            Brighton         23         26          12          12   \n3             Burnley         23         35          13          15   \n4             Chelsea         37         22          20          11   \n5      Crystal Palace         26         46          13          22   \n6             Everton         29         31          11          19   \n7              Fulham         20         28           8          15   \n8               Leeds         38         41          17          14   \n9           Leicester         45         29          24          15   \n10          Liverpool         39         24          15          14   \n11    Manchester City         54         14          27           8   \n12  Manchester United         54         23          32          12   \n13          Newcastle         27         43          18          19   \n14      Sheffield Utd         14         47           9          21   \n15        Southampton         31         45          18          16   \n16          Tottenham         39         30          24          13   \n17          West Brom         22         48           9          27   \n18           West Ham         41         34          24          17   \n19             Wolves         26         33          15          14   \n\n    GF_as_guest  GA_as_guest  \n0            21           13  \n1            16           12  \n2            11           14  \n3            10           20  \n4            17           11  \n5            13           24  \n6            18           12  \n7            12           13  \n8            21           27  \n9            21           14  \n10           24           10  \n11           27            6  \n12           22           11  \n13            9           24  \n14            5           26  \n15           13           29  \n16           15           17  \n17           13           21  \n18           17           17  \n19           11           19  ",
      "text/html": "<div>\n<style scoped>\n    .dataframe tbody tr th:only-of-type {\n        vertical-align: middle;\n    }\n\n    .dataframe tbody tr th {\n        vertical-align: top;\n    }\n\n    .dataframe thead th {\n        text-align: right;\n    }\n</style>\n<table border=\"1\" class=\"dataframe\">\n  <thead>\n    <tr style=\"text-align: right;\">\n      <th></th>\n      <th>team</th>\n      <th>GF_as_any</th>\n      <th>GA_as_any</th>\n      <th>GF_as_host</th>\n      <th>GA_as_host</th>\n      <th>GF_as_guest</th>\n      <th>GA_as_guest</th>\n    </tr>\n  </thead>\n  <tbody>\n    <tr>\n      <th>0</th>\n      <td>Arsenal</td>\n      <td>36</td>\n      <td>29</td>\n      <td>15</td>\n      <td>16</td>\n      <td>21</td>\n      <td>13</td>\n    </tr>\n    <tr>\n      <th>1</th>\n      <td>Aston Villa</td>\n      <td>32</td>\n      <td>28</td>\n      <td>16</td>\n      <td>16</td>\n      <td>16</td>\n      <td>12</td>\n    </tr>\n    <tr>\n      <th>2</th>\n      <td>Brighton</td>\n      <td>23</td>\n      <td>26</td>\n      <td>12</td>\n      <td>12</td>\n      <td>11</td>\n      <td>14</td>\n    </tr>\n    <tr>\n      <th>3</th>\n      <td>Burnley</td>\n      <td>23</td>\n      <td>35</td>\n      <td>13</td>\n      <td>15</td>\n      <td>10</td>\n      <td>20</td>\n    </tr>\n    <tr>\n      <th>4</th>\n      <td>Chelsea</td>\n      <td>37</td>\n      <td>22</td>\n      <td>20</td>\n      <td>11</td>\n      <td>17</td>\n      <td>11</td>\n    </tr>\n    <tr>\n      <th>5</th>\n      <td>Crystal Palace</td>\n      <td>26</td>\n      <td>46</td>\n      <td>13</td>\n      <td>22</td>\n      <td>13</td>\n      <td>24</td>\n    </tr>\n    <tr>\n      <th>6</th>\n      <td>Everton</td>\n      <td>29</td>\n      <td>31</td>\n      <td>11</td>\n      <td>19</td>\n      <td>18</td>\n      <td>12</td>\n    </tr>\n    <tr>\n      <th>7</th>\n      <td>Fulham</td>\n      <td>20</td>\n      <td>28</td>\n      <td>8</td>\n      <td>15</td>\n      <td>12</td>\n      <td>13</td>\n    </tr>\n    <tr>\n      <th>8</th>\n      <td>Leeds</td>\n      <td>38</td>\n      <td>41</td>\n      <td>17</td>\n      <td>14</td>\n      <td>21</td>\n      <td>27</td>\n    </tr>\n    <tr>\n      <th>9</th>\n      <td>Leicester</td>\n      <td>45</td>\n      <td>29</td>\n      <td>24</td>\n      <td>15</td>\n      <td>21</td>\n      <td>14</td>\n    </tr>\n    <tr>\n      <th>10</th>\n      <td>Liverpool</td>\n      <td>39</td>\n      <td>24</td>\n      <td>15</td>\n      <td>14</td>\n      <td>24</td>\n      <td>10</td>\n    </tr>\n    <tr>\n      <th>11</th>\n      <td>Manchester City</td>\n      <td>54</td>\n      <td>14</td>\n      <td>27</td>\n      <td>8</td>\n      <td>27</td>\n      <td>6</td>\n    </tr>\n    <tr>\n      <th>12</th>\n      <td>Manchester United</td>\n      <td>54</td>\n      <td>23</td>\n      <td>32</td>\n      <td>12</td>\n      <td>22</td>\n      <td>11</td>\n    </tr>\n    <tr>\n      <th>13</th>\n      <td>Newcastle</td>\n      <td>27</td>\n      <td>43</td>\n      <td>18</td>\n      <td>19</td>\n      <td>9</td>\n      <td>24</td>\n    </tr>\n    <tr>\n      <th>14</th>\n      <td>Sheffield Utd</td>\n      <td>14</td>\n      <td>47</td>\n      <td>9</td>\n      <td>21</td>\n      <td>5</td>\n      <td>26</td>\n    </tr>\n    <tr>\n      <th>15</th>\n      <td>Southampton</td>\n      <td>31</td>\n      <td>45</td>\n      <td>18</td>\n      <td>16</td>\n      <td>13</td>\n      <td>29</td>\n    </tr>\n    <tr>\n      <th>16</th>\n      <td>Tottenham</td>\n      <td>39</td>\n      <td>30</td>\n      <td>24</td>\n      <td>13</td>\n      <td>15</td>\n      <td>17</td>\n    </tr>\n    <tr>\n      <th>17</th>\n      <td>West Brom</td>\n      <td>22</td>\n      <td>48</td>\n      <td>9</td>\n      <td>27</td>\n      <td>13</td>\n      <td>21</td>\n    </tr>\n    <tr>\n      <th>18</th>\n      <td>West Ham</td>\n      <td>41</td>\n      <td>34</td>\n      <td>24</td>\n      <td>17</td>\n      <td>17</td>\n      <td>17</td>\n    </tr>\n    <tr>\n      <th>19</th>\n      <td>Wolves</td>\n      <td>26</td>\n      <td>33</td>\n      <td>15</td>\n      <td>14</td>\n      <td>11</td>\n      <td>19</td>\n    </tr>\n  </tbody>\n</table>\n</div>"
     },
     "execution_count": 37,
     "metadata": {},
     "output_type": "execute_result"
    }
   ],
   "source": [
    "def single_team_db(predicted_round: int):\n",
    "    games_df = games_allowed[games_allowed['round'] < predicted_round]\n",
    "    host_df = games_df.groupby('host').agg('sum').reset_index()\n",
    "    host_df.drop(labels=['round'], axis=1)\n",
    "    guest_df = games_df.groupby('guest').agg('sum').reset_index()\n",
    "    guest_df.drop(labels=['round'], axis=1)\n",
    "\n",
    "    tot_each_team_df = DataFrame(data={\n",
    "        \"team\": host_df.host,\n",
    "        \"GF_as_any\": host_df.goals_host + guest_df.goals_guest,\n",
    "        \"GA_as_any\": host_df.goals_guest + guest_df.goals_host,\n",
    "        \"GF_as_host\": host_df.goals_host,\n",
    "        \"GA_as_host\": host_df.goals_guest,\n",
    "        \"GF_as_guest\": guest_df.goals_guest,\n",
    "        \"GA_as_guest\": guest_df.goals_host,\n",
    "    })\n",
    "    tot_each_team_df.sort_values(by=['team'], ascending=True)\n",
    "    return tot_each_team_df\n",
    "\n",
    "final_single_team_db = single_team_db(predicted_round=1 + games_allowed['round'].max())\n",
    "final_single_team_db"
   ],
   "metadata": {
    "collapsed": false,
    "pycharm": {
     "name": "#%%\n"
    }
   }
  },
  {
   "cell_type": "code",
   "execution_count": 38,
   "outputs": [],
   "source": [
    "HOST_COLUMNS_NAMES = {\n",
    "    'team': 'team1',\n",
    "    'GF_as_any': 'GF1_as_any',\n",
    "    'GA_as_any': 'GA1_as_any',\n",
    "    'GF_as_host': 'GF1_as_host',\n",
    "    'GA_as_host': 'GA1_as_host',\n",
    "}\n",
    "\n",
    "GUEST_COLUMNS_NAMES = {\n",
    "    'team': 'team2',\n",
    "    'GF_as_any': 'GF2_as_any',\n",
    "    'GA_as_any': 'GA2_as_any',\n",
    "    'GF_as_guest': 'GF2_as_guest',\n",
    "    'GA_as_guest': 'GA2_as_guest',\n",
    "}"
   ],
   "metadata": {
    "collapsed": false,
    "pycharm": {
     "name": "#%%\n"
    }
   }
  },
  {
   "cell_type": "code",
   "execution_count": 39,
   "outputs": [],
   "source": [
    "def matches_to_predict(predicted_round: int) -> games_allowed:\n",
    "    return games_allowed[games_allowed['round'] == predicted_round]"
   ],
   "metadata": {
    "collapsed": false,
    "pycharm": {
     "name": "#%%\n"
    }
   }
  },
  {
   "cell_type": "code",
   "execution_count": 69,
   "outputs": [
    {
     "data": {
      "text/plain": "             team1  GF1_as_any  GA1_as_any  GF1_as_host  GA1_as_host  \\\n0         Brighton          23          26           12           12   \n1          Burnley          21          30           12           13   \n2   Crystal Palace          24          39           12           18   \n3           Fulham          19          26            8           14   \n4        Liverpool          36          22           13           13   \n5  Manchester City          51          11           26            6   \n6    Sheffield Utd          14          43            9           18   \n7        Tottenham          36          25           23           10   \n8        West Brom          19          45            6           27   \n9         West Ham          36          29           21           15   \n\n   GF_as_guest  GA_as_guest              team2  GF2_as_any  GA2_as_any  \\\n0           11           14            Everton          27          29   \n1            9           17          Newcastle          22          40   \n2           12           21            Chelsea          33          21   \n3           11           12             Wolves          24          33   \n4           23            9        Aston Villa          30          24   \n5           25            5              Leeds          35          39   \n6            5           25            Arsenal          32          28   \n7           13           15  Manchester United          48          21   \n8           13           18        Southampton          28          41   \n9           15           14          Leicester          40          26   \n\n   GF_as_host  GA_as_host  GF2_as_guest  GA2_as_guest  \n0           9          17            18            12  \n1          15          17             7            23  \n2          20          11            13            10  \n3          14          14            10            19  \n4          15          14            15            10  \n5          16          13            19            26  \n6          14          15            18            13  \n7          29          11            19            10  \n8          15          15            13            26  \n9          21          15            19            11  ",
      "text/html": "<div>\n<style scoped>\n    .dataframe tbody tr th:only-of-type {\n        vertical-align: middle;\n    }\n\n    .dataframe tbody tr th {\n        vertical-align: top;\n    }\n\n    .dataframe thead th {\n        text-align: right;\n    }\n</style>\n<table border=\"1\" class=\"dataframe\">\n  <thead>\n    <tr style=\"text-align: right;\">\n      <th></th>\n      <th>team1</th>\n      <th>GF1_as_any</th>\n      <th>GA1_as_any</th>\n      <th>GF1_as_host</th>\n      <th>GA1_as_host</th>\n      <th>GF_as_guest</th>\n      <th>GA_as_guest</th>\n      <th>team2</th>\n      <th>GF2_as_any</th>\n      <th>GA2_as_any</th>\n      <th>GF_as_host</th>\n      <th>GA_as_host</th>\n      <th>GF2_as_guest</th>\n      <th>GA2_as_guest</th>\n    </tr>\n  </thead>\n  <tbody>\n    <tr>\n      <th>0</th>\n      <td>Brighton</td>\n      <td>23</td>\n      <td>26</td>\n      <td>12</td>\n      <td>12</td>\n      <td>11</td>\n      <td>14</td>\n      <td>Everton</td>\n      <td>27</td>\n      <td>29</td>\n      <td>9</td>\n      <td>17</td>\n      <td>18</td>\n      <td>12</td>\n    </tr>\n    <tr>\n      <th>1</th>\n      <td>Burnley</td>\n      <td>21</td>\n      <td>30</td>\n      <td>12</td>\n      <td>13</td>\n      <td>9</td>\n      <td>17</td>\n      <td>Newcastle</td>\n      <td>22</td>\n      <td>40</td>\n      <td>15</td>\n      <td>17</td>\n      <td>7</td>\n      <td>23</td>\n    </tr>\n    <tr>\n      <th>2</th>\n      <td>Crystal Palace</td>\n      <td>24</td>\n      <td>39</td>\n      <td>12</td>\n      <td>18</td>\n      <td>12</td>\n      <td>21</td>\n      <td>Chelsea</td>\n      <td>33</td>\n      <td>21</td>\n      <td>20</td>\n      <td>11</td>\n      <td>13</td>\n      <td>10</td>\n    </tr>\n    <tr>\n      <th>3</th>\n      <td>Fulham</td>\n      <td>19</td>\n      <td>26</td>\n      <td>8</td>\n      <td>14</td>\n      <td>11</td>\n      <td>12</td>\n      <td>Wolves</td>\n      <td>24</td>\n      <td>33</td>\n      <td>14</td>\n      <td>14</td>\n      <td>10</td>\n      <td>19</td>\n    </tr>\n    <tr>\n      <th>4</th>\n      <td>Liverpool</td>\n      <td>36</td>\n      <td>22</td>\n      <td>13</td>\n      <td>13</td>\n      <td>23</td>\n      <td>9</td>\n      <td>Aston Villa</td>\n      <td>30</td>\n      <td>24</td>\n      <td>15</td>\n      <td>14</td>\n      <td>15</td>\n      <td>10</td>\n    </tr>\n    <tr>\n      <th>5</th>\n      <td>Manchester City</td>\n      <td>51</td>\n      <td>11</td>\n      <td>26</td>\n      <td>6</td>\n      <td>25</td>\n      <td>5</td>\n      <td>Leeds</td>\n      <td>35</td>\n      <td>39</td>\n      <td>16</td>\n      <td>13</td>\n      <td>19</td>\n      <td>26</td>\n    </tr>\n    <tr>\n      <th>6</th>\n      <td>Sheffield Utd</td>\n      <td>14</td>\n      <td>43</td>\n      <td>9</td>\n      <td>18</td>\n      <td>5</td>\n      <td>25</td>\n      <td>Arsenal</td>\n      <td>32</td>\n      <td>28</td>\n      <td>14</td>\n      <td>15</td>\n      <td>18</td>\n      <td>13</td>\n    </tr>\n    <tr>\n      <th>7</th>\n      <td>Tottenham</td>\n      <td>36</td>\n      <td>25</td>\n      <td>23</td>\n      <td>10</td>\n      <td>13</td>\n      <td>15</td>\n      <td>Manchester United</td>\n      <td>48</td>\n      <td>21</td>\n      <td>29</td>\n      <td>11</td>\n      <td>19</td>\n      <td>10</td>\n    </tr>\n    <tr>\n      <th>8</th>\n      <td>West Brom</td>\n      <td>19</td>\n      <td>45</td>\n      <td>6</td>\n      <td>27</td>\n      <td>13</td>\n      <td>18</td>\n      <td>Southampton</td>\n      <td>28</td>\n      <td>41</td>\n      <td>15</td>\n      <td>15</td>\n      <td>13</td>\n      <td>26</td>\n    </tr>\n    <tr>\n      <th>9</th>\n      <td>West Ham</td>\n      <td>36</td>\n      <td>29</td>\n      <td>21</td>\n      <td>15</td>\n      <td>15</td>\n      <td>14</td>\n      <td>Leicester</td>\n      <td>40</td>\n      <td>26</td>\n      <td>21</td>\n      <td>15</td>\n      <td>19</td>\n      <td>11</td>\n    </tr>\n  </tbody>\n</table>\n</div>"
     },
     "execution_count": 69,
     "metadata": {},
     "output_type": "execute_result"
    }
   ],
   "source": [
    "max_round = games_allowed['round'].max()\n",
    "min_round = 7\n",
    "\n",
    "predicted_round = 31\n",
    "matches = matches_to_predict(predicted_round=predicted_round)\n",
    "prediction = DataFrame()\n",
    "\n",
    "single_team_sums = single_team_db(predicted_round=predicted_round)\n",
    "\n",
    "final_df = None\n",
    "for ind, row in matches.iterrows():\n",
    "    host = row['host']\n",
    "    guest = row['guest']\n",
    "\n",
    "    host_stats: DataFrame\n",
    "    guest_stats: DataFrame\n",
    "\n",
    "    host_stats = single_team_sums.loc[single_team_sums['team'] == host]\n",
    "    guest_stats = single_team_sums.loc[single_team_sums['team'] == guest]\n",
    "    host_stats = host_stats.rename(columns=HOST_COLUMNS_NAMES)\n",
    "    guest_stats = guest_stats.rename(columns=GUEST_COLUMNS_NAMES)\n",
    "\n",
    "    host_stats.index = [0]\n",
    "    guest_stats.index = [0]\n",
    "\n",
    "    line = pd.concat([host_stats, guest_stats], axis=1)\n",
    "    if final_df is not None:\n",
    "        final_df = pd.concat([final_df, line], axis=0)\n",
    "    else:\n",
    "        final_df = line\n",
    "\n",
    "final_df.to_excel('output.xlsx')\n",
    "final_df.reset_index(drop=True)\n",
    "\n",
    "\n"
   ],
   "metadata": {
    "collapsed": false,
    "pycharm": {
     "name": "#%%\n"
    }
   }
  },
  {
   "cell_type": "code",
   "execution_count": null,
   "outputs": [],
   "source": [],
   "metadata": {
    "collapsed": false,
    "pycharm": {
     "name": "#%%\n"
    }
   }
  }
 ],
 "metadata": {
  "kernelspec": {
   "display_name": "Python 3 (ipykernel)",
   "language": "python",
   "name": "python3"
  },
  "language_info": {
   "codemirror_mode": {
    "name": "ipython",
    "version": 3
   },
   "file_extension": ".py",
   "mimetype": "text/x-python",
   "name": "python",
   "nbconvert_exporter": "python",
   "pygments_lexer": "ipython3",
   "version": "3.8.10"
  }
 },
 "nbformat": 4,
 "nbformat_minor": 1
}