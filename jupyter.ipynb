{
 "cells": [
  {
   "cell_type": "code",
   "execution_count": 27,
   "metadata": {},
   "outputs": [],
   "source": [
    "import pandas as pd\n",
    "from IPython.core.display_functions import display\n",
    "from pandas import DataFrame, json_normalize\n",
    "from utils import num_of_round, is_allowed_round, response_from_json\n",
    "\n",
    "FILE_NAME = 'data/league39/2021/games.json'\n",
    "response = response_from_json(file_name=FILE_NAME)"
   ]
  },
  {
   "cell_type": "code",
   "execution_count": 28,
   "outputs": [
    {
     "data": {
      "text/plain": "     fixture.id fixture.referee fixture.timezone               fixture.date  \\\n0        710556       M. Oliver              UTC  2021-08-13T19:00:00+00:00   \n1        710557        D. Coote              UTC  2021-08-14T14:00:00+00:00   \n2        710558         J. Moss              UTC  2021-08-14T14:00:00+00:00   \n3        710559       A. Madley              UTC  2021-08-14T14:00:00+00:00   \n4        710560       C. Pawson              UTC  2021-08-14T14:00:00+00:00   \n..          ...             ...              ...                        ...   \n375      710931            None              UTC  2022-05-22T15:00:00+00:00   \n376      710932            None              UTC  2022-05-22T15:00:00+00:00   \n377      710933            None              UTC  2022-05-22T15:00:00+00:00   \n378      710934            None              UTC  2022-05-22T15:00:00+00:00   \n379      710935            None              UTC  2022-05-22T15:00:00+00:00   \n\n     fixture.timestamp  fixture.periods.first  fixture.periods.second  \\\n0           1628881200           1.628881e+09            1.628885e+09   \n1           1628949600           1.628950e+09            1.628953e+09   \n2           1628949600           1.628950e+09            1.628953e+09   \n3           1628949600           1.628950e+09            1.628953e+09   \n4           1628949600           1.628950e+09            1.628953e+09   \n..                 ...                    ...                     ...   \n375         1653231600                    NaN                     NaN   \n376         1653231600                    NaN                     NaN   \n377         1653231600                    NaN                     NaN   \n378         1653231600                    NaN                     NaN   \n379         1653231600                    NaN                     NaN   \n\n     fixture.venue.id           fixture.venue.name         fixture.venue.city  \\\n0               10503  Brentford Community Stadium       Brentford, Middlesex   \n1                 512                    Turf Moor                    Burnley   \n2                 519              Stamford Bridge                     London   \n3                8560                Goodison Park                  Liverpool   \n4                 547           King Power Stadium  Leicester, Leicestershire   \n..                ...                          ...                        ...   \n375               525                Selhurst Park                     London   \n376               547           King Power Stadium  Leicester, Leicestershire   \n377               550                      Anfield                  Liverpool   \n378               555               Etihad Stadium                 Manchester   \n379               565                  Carrow Road           Norwich, Norfolk   \n\n     ... goals.home goals.away  score.halftime.home  score.halftime.away  \\\n0    ...          2          0                  1.0                  0.0   \n1    ...          1          2                  1.0                  0.0   \n2    ...          3          0                  2.0                  0.0   \n3    ...          3          1                  0.0                  1.0   \n4    ...          1          0                  1.0                  0.0   \n..   ...        ...        ...                  ...                  ...   \n375  ...       <NA>       <NA>                  NaN                  NaN   \n376  ...       <NA>       <NA>                  NaN                  NaN   \n377  ...       <NA>       <NA>                  NaN                  NaN   \n378  ...       <NA>       <NA>                  NaN                  NaN   \n379  ...       <NA>       <NA>                  NaN                  NaN   \n\n    score.fulltime.home score.fulltime.away score.extratime.home  \\\n0                   2.0                 0.0                 None   \n1                   1.0                 2.0                 None   \n2                   3.0                 0.0                 None   \n3                   3.0                 1.0                 None   \n4                   1.0                 0.0                 None   \n..                  ...                 ...                  ...   \n375                 NaN                 NaN                 None   \n376                 NaN                 NaN                 None   \n377                 NaN                 NaN                 None   \n378                 NaN                 NaN                 None   \n379                 NaN                 NaN                 None   \n\n    score.extratime.away  score.penalty.home score.penalty.away  \n0                   None                None               None  \n1                   None                None               None  \n2                   None                None               None  \n3                   None                None               None  \n4                   None                None               None  \n..                   ...                 ...                ...  \n375                 None                None               None  \n376                 None                None               None  \n377                 None                None               None  \n378                 None                None               None  \n379                 None                None               None  \n\n[380 rows x 38 columns]",
      "text/html": "<div>\n<style scoped>\n    .dataframe tbody tr th:only-of-type {\n        vertical-align: middle;\n    }\n\n    .dataframe tbody tr th {\n        vertical-align: top;\n    }\n\n    .dataframe thead th {\n        text-align: right;\n    }\n</style>\n<table border=\"1\" class=\"dataframe\">\n  <thead>\n    <tr style=\"text-align: right;\">\n      <th></th>\n      <th>fixture.id</th>\n      <th>fixture.referee</th>\n      <th>fixture.timezone</th>\n      <th>fixture.date</th>\n      <th>fixture.timestamp</th>\n      <th>fixture.periods.first</th>\n      <th>fixture.periods.second</th>\n      <th>fixture.venue.id</th>\n      <th>fixture.venue.name</th>\n      <th>fixture.venue.city</th>\n      <th>...</th>\n      <th>goals.home</th>\n      <th>goals.away</th>\n      <th>score.halftime.home</th>\n      <th>score.halftime.away</th>\n      <th>score.fulltime.home</th>\n      <th>score.fulltime.away</th>\n      <th>score.extratime.home</th>\n      <th>score.extratime.away</th>\n      <th>score.penalty.home</th>\n      <th>score.penalty.away</th>\n    </tr>\n  </thead>\n  <tbody>\n    <tr>\n      <th>0</th>\n      <td>710556</td>\n      <td>M. Oliver</td>\n      <td>UTC</td>\n      <td>2021-08-13T19:00:00+00:00</td>\n      <td>1628881200</td>\n      <td>1.628881e+09</td>\n      <td>1.628885e+09</td>\n      <td>10503</td>\n      <td>Brentford Community Stadium</td>\n      <td>Brentford, Middlesex</td>\n      <td>...</td>\n      <td>2</td>\n      <td>0</td>\n      <td>1.0</td>\n      <td>0.0</td>\n      <td>2.0</td>\n      <td>0.0</td>\n      <td>None</td>\n      <td>None</td>\n      <td>None</td>\n      <td>None</td>\n    </tr>\n    <tr>\n      <th>1</th>\n      <td>710557</td>\n      <td>D. Coote</td>\n      <td>UTC</td>\n      <td>2021-08-14T14:00:00+00:00</td>\n      <td>1628949600</td>\n      <td>1.628950e+09</td>\n      <td>1.628953e+09</td>\n      <td>512</td>\n      <td>Turf Moor</td>\n      <td>Burnley</td>\n      <td>...</td>\n      <td>1</td>\n      <td>2</td>\n      <td>1.0</td>\n      <td>0.0</td>\n      <td>1.0</td>\n      <td>2.0</td>\n      <td>None</td>\n      <td>None</td>\n      <td>None</td>\n      <td>None</td>\n    </tr>\n    <tr>\n      <th>2</th>\n      <td>710558</td>\n      <td>J. Moss</td>\n      <td>UTC</td>\n      <td>2021-08-14T14:00:00+00:00</td>\n      <td>1628949600</td>\n      <td>1.628950e+09</td>\n      <td>1.628953e+09</td>\n      <td>519</td>\n      <td>Stamford Bridge</td>\n      <td>London</td>\n      <td>...</td>\n      <td>3</td>\n      <td>0</td>\n      <td>2.0</td>\n      <td>0.0</td>\n      <td>3.0</td>\n      <td>0.0</td>\n      <td>None</td>\n      <td>None</td>\n      <td>None</td>\n      <td>None</td>\n    </tr>\n    <tr>\n      <th>3</th>\n      <td>710559</td>\n      <td>A. Madley</td>\n      <td>UTC</td>\n      <td>2021-08-14T14:00:00+00:00</td>\n      <td>1628949600</td>\n      <td>1.628950e+09</td>\n      <td>1.628953e+09</td>\n      <td>8560</td>\n      <td>Goodison Park</td>\n      <td>Liverpool</td>\n      <td>...</td>\n      <td>3</td>\n      <td>1</td>\n      <td>0.0</td>\n      <td>1.0</td>\n      <td>3.0</td>\n      <td>1.0</td>\n      <td>None</td>\n      <td>None</td>\n      <td>None</td>\n      <td>None</td>\n    </tr>\n    <tr>\n      <th>4</th>\n      <td>710560</td>\n      <td>C. Pawson</td>\n      <td>UTC</td>\n      <td>2021-08-14T14:00:00+00:00</td>\n      <td>1628949600</td>\n      <td>1.628950e+09</td>\n      <td>1.628953e+09</td>\n      <td>547</td>\n      <td>King Power Stadium</td>\n      <td>Leicester, Leicestershire</td>\n      <td>...</td>\n      <td>1</td>\n      <td>0</td>\n      <td>1.0</td>\n      <td>0.0</td>\n      <td>1.0</td>\n      <td>0.0</td>\n      <td>None</td>\n      <td>None</td>\n      <td>None</td>\n      <td>None</td>\n    </tr>\n    <tr>\n      <th>...</th>\n      <td>...</td>\n      <td>...</td>\n      <td>...</td>\n      <td>...</td>\n      <td>...</td>\n      <td>...</td>\n      <td>...</td>\n      <td>...</td>\n      <td>...</td>\n      <td>...</td>\n      <td>...</td>\n      <td>...</td>\n      <td>...</td>\n      <td>...</td>\n      <td>...</td>\n      <td>...</td>\n      <td>...</td>\n      <td>...</td>\n      <td>...</td>\n      <td>...</td>\n      <td>...</td>\n    </tr>\n    <tr>\n      <th>375</th>\n      <td>710931</td>\n      <td>None</td>\n      <td>UTC</td>\n      <td>2022-05-22T15:00:00+00:00</td>\n      <td>1653231600</td>\n      <td>NaN</td>\n      <td>NaN</td>\n      <td>525</td>\n      <td>Selhurst Park</td>\n      <td>London</td>\n      <td>...</td>\n      <td>&lt;NA&gt;</td>\n      <td>&lt;NA&gt;</td>\n      <td>NaN</td>\n      <td>NaN</td>\n      <td>NaN</td>\n      <td>NaN</td>\n      <td>None</td>\n      <td>None</td>\n      <td>None</td>\n      <td>None</td>\n    </tr>\n    <tr>\n      <th>376</th>\n      <td>710932</td>\n      <td>None</td>\n      <td>UTC</td>\n      <td>2022-05-22T15:00:00+00:00</td>\n      <td>1653231600</td>\n      <td>NaN</td>\n      <td>NaN</td>\n      <td>547</td>\n      <td>King Power Stadium</td>\n      <td>Leicester, Leicestershire</td>\n      <td>...</td>\n      <td>&lt;NA&gt;</td>\n      <td>&lt;NA&gt;</td>\n      <td>NaN</td>\n      <td>NaN</td>\n      <td>NaN</td>\n      <td>NaN</td>\n      <td>None</td>\n      <td>None</td>\n      <td>None</td>\n      <td>None</td>\n    </tr>\n    <tr>\n      <th>377</th>\n      <td>710933</td>\n      <td>None</td>\n      <td>UTC</td>\n      <td>2022-05-22T15:00:00+00:00</td>\n      <td>1653231600</td>\n      <td>NaN</td>\n      <td>NaN</td>\n      <td>550</td>\n      <td>Anfield</td>\n      <td>Liverpool</td>\n      <td>...</td>\n      <td>&lt;NA&gt;</td>\n      <td>&lt;NA&gt;</td>\n      <td>NaN</td>\n      <td>NaN</td>\n      <td>NaN</td>\n      <td>NaN</td>\n      <td>None</td>\n      <td>None</td>\n      <td>None</td>\n      <td>None</td>\n    </tr>\n    <tr>\n      <th>378</th>\n      <td>710934</td>\n      <td>None</td>\n      <td>UTC</td>\n      <td>2022-05-22T15:00:00+00:00</td>\n      <td>1653231600</td>\n      <td>NaN</td>\n      <td>NaN</td>\n      <td>555</td>\n      <td>Etihad Stadium</td>\n      <td>Manchester</td>\n      <td>...</td>\n      <td>&lt;NA&gt;</td>\n      <td>&lt;NA&gt;</td>\n      <td>NaN</td>\n      <td>NaN</td>\n      <td>NaN</td>\n      <td>NaN</td>\n      <td>None</td>\n      <td>None</td>\n      <td>None</td>\n      <td>None</td>\n    </tr>\n    <tr>\n      <th>379</th>\n      <td>710935</td>\n      <td>None</td>\n      <td>UTC</td>\n      <td>2022-05-22T15:00:00+00:00</td>\n      <td>1653231600</td>\n      <td>NaN</td>\n      <td>NaN</td>\n      <td>565</td>\n      <td>Carrow Road</td>\n      <td>Norwich, Norfolk</td>\n      <td>...</td>\n      <td>&lt;NA&gt;</td>\n      <td>&lt;NA&gt;</td>\n      <td>NaN</td>\n      <td>NaN</td>\n      <td>NaN</td>\n      <td>NaN</td>\n      <td>None</td>\n      <td>None</td>\n      <td>None</td>\n      <td>None</td>\n    </tr>\n  </tbody>\n</table>\n<p>380 rows × 38 columns</p>\n</div>"
     },
     "execution_count": 28,
     "metadata": {},
     "output_type": "execute_result"
    }
   ],
   "source": [
    "all_response_data = json_normalize(data=response)\n",
    "all_response_data = all_response_data.astype(\n",
    "    {'goals.away': 'Int64', 'goals.home': 'Int64'}, errors='ignore')\n",
    "all_response_data"
   ],
   "metadata": {
    "collapsed": false,
    "pycharm": {
     "name": "#%%\n"
    }
   }
  },
  {
   "cell_type": "code",
   "execution_count": 29,
   "outputs": [
    {
     "data": {
      "text/plain": "                host              guest  goals_host  goals_guest  round\n0          Brentford            Arsenal           2            0      1\n1            Burnley           Brighton           1            2      1\n2            Chelsea     Crystal Palace           3            0      1\n3            Everton        Southampton           3            1      1\n4          Leicester             Wolves           1            0      1\n..               ...                ...         ...          ...    ...\n375   Crystal Palace  Manchester United        <NA>         <NA>     38\n376        Leicester        Southampton        <NA>         <NA>     38\n377        Liverpool             Wolves        <NA>         <NA>     38\n378  Manchester City        Aston Villa        <NA>         <NA>     38\n379          Norwich          Tottenham        <NA>         <NA>     38\n\n[380 rows x 5 columns]",
      "text/html": "<div>\n<style scoped>\n    .dataframe tbody tr th:only-of-type {\n        vertical-align: middle;\n    }\n\n    .dataframe tbody tr th {\n        vertical-align: top;\n    }\n\n    .dataframe thead th {\n        text-align: right;\n    }\n</style>\n<table border=\"1\" class=\"dataframe\">\n  <thead>\n    <tr style=\"text-align: right;\">\n      <th></th>\n      <th>host</th>\n      <th>guest</th>\n      <th>goals_host</th>\n      <th>goals_guest</th>\n      <th>round</th>\n    </tr>\n  </thead>\n  <tbody>\n    <tr>\n      <th>0</th>\n      <td>Brentford</td>\n      <td>Arsenal</td>\n      <td>2</td>\n      <td>0</td>\n      <td>1</td>\n    </tr>\n    <tr>\n      <th>1</th>\n      <td>Burnley</td>\n      <td>Brighton</td>\n      <td>1</td>\n      <td>2</td>\n      <td>1</td>\n    </tr>\n    <tr>\n      <th>2</th>\n      <td>Chelsea</td>\n      <td>Crystal Palace</td>\n      <td>3</td>\n      <td>0</td>\n      <td>1</td>\n    </tr>\n    <tr>\n      <th>3</th>\n      <td>Everton</td>\n      <td>Southampton</td>\n      <td>3</td>\n      <td>1</td>\n      <td>1</td>\n    </tr>\n    <tr>\n      <th>4</th>\n      <td>Leicester</td>\n      <td>Wolves</td>\n      <td>1</td>\n      <td>0</td>\n      <td>1</td>\n    </tr>\n    <tr>\n      <th>...</th>\n      <td>...</td>\n      <td>...</td>\n      <td>...</td>\n      <td>...</td>\n      <td>...</td>\n    </tr>\n    <tr>\n      <th>375</th>\n      <td>Crystal Palace</td>\n      <td>Manchester United</td>\n      <td>&lt;NA&gt;</td>\n      <td>&lt;NA&gt;</td>\n      <td>38</td>\n    </tr>\n    <tr>\n      <th>376</th>\n      <td>Leicester</td>\n      <td>Southampton</td>\n      <td>&lt;NA&gt;</td>\n      <td>&lt;NA&gt;</td>\n      <td>38</td>\n    </tr>\n    <tr>\n      <th>377</th>\n      <td>Liverpool</td>\n      <td>Wolves</td>\n      <td>&lt;NA&gt;</td>\n      <td>&lt;NA&gt;</td>\n      <td>38</td>\n    </tr>\n    <tr>\n      <th>378</th>\n      <td>Manchester City</td>\n      <td>Aston Villa</td>\n      <td>&lt;NA&gt;</td>\n      <td>&lt;NA&gt;</td>\n      <td>38</td>\n    </tr>\n    <tr>\n      <th>379</th>\n      <td>Norwich</td>\n      <td>Tottenham</td>\n      <td>&lt;NA&gt;</td>\n      <td>&lt;NA&gt;</td>\n      <td>38</td>\n    </tr>\n  </tbody>\n</table>\n<p>380 rows × 5 columns</p>\n</div>"
     },
     "execution_count": 29,
     "metadata": {},
     "output_type": "execute_result"
    }
   ],
   "source": [
    "COLUMN_NAMES_DICT = {'teams.home.name': 'host',\n",
    "                     'teams.away.name': 'guest',\n",
    "                     'goals.home': 'goals_host',\n",
    "                     'goals.away': 'goals_guest',\n",
    "                     'league.round': 'round'}\n",
    "\n",
    "all_games = all_response_data[COLUMN_NAMES_DICT.keys()]\n",
    "all_games = all_games.rename(columns=COLUMN_NAMES_DICT)\n",
    "all_games['round'] = all_games['round'].apply(lambda s: num_of_round(s))\n",
    "all_games"
   ],
   "metadata": {
    "collapsed": false,
    "pycharm": {
     "name": "#%%\n"
    }
   }
  },
  {
   "cell_type": "code",
   "execution_count": 30,
   "outputs": [
    {
     "data": {
      "text/plain": "                host        guest  goals_host  goals_guest  round\n60          Brighton      Arsenal           0            0      7\n61           Burnley      Norwich           0            0      7\n62           Chelsea  Southampton           3            1      7\n63    Crystal Palace    Leicester           2            2      7\n64             Leeds      Watford           1            0      7\n..               ...          ...         ...          ...    ...\n315  Manchester City    Liverpool        <NA>         <NA>     32\n316        Newcastle       Wolves        <NA>         <NA>     32\n317          Norwich      Burnley        <NA>         <NA>     32\n318      Southampton      Chelsea        <NA>         <NA>     32\n319          Watford        Leeds        <NA>         <NA>     32\n\n[260 rows x 5 columns]",
      "text/html": "<div>\n<style scoped>\n    .dataframe tbody tr th:only-of-type {\n        vertical-align: middle;\n    }\n\n    .dataframe tbody tr th {\n        vertical-align: top;\n    }\n\n    .dataframe thead th {\n        text-align: right;\n    }\n</style>\n<table border=\"1\" class=\"dataframe\">\n  <thead>\n    <tr style=\"text-align: right;\">\n      <th></th>\n      <th>host</th>\n      <th>guest</th>\n      <th>goals_host</th>\n      <th>goals_guest</th>\n      <th>round</th>\n    </tr>\n  </thead>\n  <tbody>\n    <tr>\n      <th>60</th>\n      <td>Brighton</td>\n      <td>Arsenal</td>\n      <td>0</td>\n      <td>0</td>\n      <td>7</td>\n    </tr>\n    <tr>\n      <th>61</th>\n      <td>Burnley</td>\n      <td>Norwich</td>\n      <td>0</td>\n      <td>0</td>\n      <td>7</td>\n    </tr>\n    <tr>\n      <th>62</th>\n      <td>Chelsea</td>\n      <td>Southampton</td>\n      <td>3</td>\n      <td>1</td>\n      <td>7</td>\n    </tr>\n    <tr>\n      <th>63</th>\n      <td>Crystal Palace</td>\n      <td>Leicester</td>\n      <td>2</td>\n      <td>2</td>\n      <td>7</td>\n    </tr>\n    <tr>\n      <th>64</th>\n      <td>Leeds</td>\n      <td>Watford</td>\n      <td>1</td>\n      <td>0</td>\n      <td>7</td>\n    </tr>\n    <tr>\n      <th>...</th>\n      <td>...</td>\n      <td>...</td>\n      <td>...</td>\n      <td>...</td>\n      <td>...</td>\n    </tr>\n    <tr>\n      <th>315</th>\n      <td>Manchester City</td>\n      <td>Liverpool</td>\n      <td>&lt;NA&gt;</td>\n      <td>&lt;NA&gt;</td>\n      <td>32</td>\n    </tr>\n    <tr>\n      <th>316</th>\n      <td>Newcastle</td>\n      <td>Wolves</td>\n      <td>&lt;NA&gt;</td>\n      <td>&lt;NA&gt;</td>\n      <td>32</td>\n    </tr>\n    <tr>\n      <th>317</th>\n      <td>Norwich</td>\n      <td>Burnley</td>\n      <td>&lt;NA&gt;</td>\n      <td>&lt;NA&gt;</td>\n      <td>32</td>\n    </tr>\n    <tr>\n      <th>318</th>\n      <td>Southampton</td>\n      <td>Chelsea</td>\n      <td>&lt;NA&gt;</td>\n      <td>&lt;NA&gt;</td>\n      <td>32</td>\n    </tr>\n    <tr>\n      <th>319</th>\n      <td>Watford</td>\n      <td>Leeds</td>\n      <td>&lt;NA&gt;</td>\n      <td>&lt;NA&gt;</td>\n      <td>32</td>\n    </tr>\n  </tbody>\n</table>\n<p>260 rows × 5 columns</p>\n</div>"
     },
     "execution_count": 30,
     "metadata": {},
     "output_type": "execute_result"
    }
   ],
   "source": [
    "games_allowed = all_games[all_games[\"round\"].apply(lambda n: is_allowed_round(n))]\n",
    "games_allowed"
   ],
   "metadata": {
    "collapsed": false,
    "pycharm": {
     "name": "#%%\n"
    }
   }
  },
  {
   "cell_type": "code",
   "execution_count": 31,
   "outputs": [
    {
     "data": {
      "text/plain": "                 team  GF_as_any  GA_as_any  GF_as_host  GA_as_host  \\\n0             Arsenal         28         15          14           5   \n1         Aston Villa         19         25          11          15   \n2           Brentford         18         33           9          13   \n3            Brighton         15         18           6           8   \n4             Burnley         11         16           6           4   \n5             Chelsea         36         16          21           9   \n6      Crystal Palace         25         25          17          14   \n7             Everton         12         28           7          15   \n8               Leeds         18         26          10          10   \n9           Leicester         27         27          16          13   \n10          Liverpool         43         15          19           5   \n11    Manchester City         43         13          22           6   \n12  Manchester United         23         25           9          12   \n13          Newcastle         14         29           9          16   \n14            Norwich         11         29           5          12   \n15        Southampton         22         27          13           8   \n16          Tottenham         22         15          14           7   \n17            Watford         16         31           7          20   \n18           West Ham         28         23          15          13   \n19             Wolves         16         11           8           4   \n\n    GF_as_guest  GA_as_guest  \n0            14           10  \n1             8           10  \n2             9           20  \n3             9           10  \n4             5           12  \n5            15            7  \n6             8           11  \n7             5           13  \n8             8           16  \n9            11           14  \n10           24           10  \n11           21            7  \n12           14           13  \n13            5           13  \n14            6           17  \n15            9           19  \n16            8            8  \n17            9           11  \n18           13           10  \n19            8            7  ",
      "text/html": "<div>\n<style scoped>\n    .dataframe tbody tr th:only-of-type {\n        vertical-align: middle;\n    }\n\n    .dataframe tbody tr th {\n        vertical-align: top;\n    }\n\n    .dataframe thead th {\n        text-align: right;\n    }\n</style>\n<table border=\"1\" class=\"dataframe\">\n  <thead>\n    <tr style=\"text-align: right;\">\n      <th></th>\n      <th>team</th>\n      <th>GF_as_any</th>\n      <th>GA_as_any</th>\n      <th>GF_as_host</th>\n      <th>GA_as_host</th>\n      <th>GF_as_guest</th>\n      <th>GA_as_guest</th>\n    </tr>\n  </thead>\n  <tbody>\n    <tr>\n      <th>0</th>\n      <td>Arsenal</td>\n      <td>28</td>\n      <td>15</td>\n      <td>14</td>\n      <td>5</td>\n      <td>14</td>\n      <td>10</td>\n    </tr>\n    <tr>\n      <th>1</th>\n      <td>Aston Villa</td>\n      <td>19</td>\n      <td>25</td>\n      <td>11</td>\n      <td>15</td>\n      <td>8</td>\n      <td>10</td>\n    </tr>\n    <tr>\n      <th>2</th>\n      <td>Brentford</td>\n      <td>18</td>\n      <td>33</td>\n      <td>9</td>\n      <td>13</td>\n      <td>9</td>\n      <td>20</td>\n    </tr>\n    <tr>\n      <th>3</th>\n      <td>Brighton</td>\n      <td>15</td>\n      <td>18</td>\n      <td>6</td>\n      <td>8</td>\n      <td>9</td>\n      <td>10</td>\n    </tr>\n    <tr>\n      <th>4</th>\n      <td>Burnley</td>\n      <td>11</td>\n      <td>16</td>\n      <td>6</td>\n      <td>4</td>\n      <td>5</td>\n      <td>12</td>\n    </tr>\n    <tr>\n      <th>5</th>\n      <td>Chelsea</td>\n      <td>36</td>\n      <td>16</td>\n      <td>21</td>\n      <td>9</td>\n      <td>15</td>\n      <td>7</td>\n    </tr>\n    <tr>\n      <th>6</th>\n      <td>Crystal Palace</td>\n      <td>25</td>\n      <td>25</td>\n      <td>17</td>\n      <td>14</td>\n      <td>8</td>\n      <td>11</td>\n    </tr>\n    <tr>\n      <th>7</th>\n      <td>Everton</td>\n      <td>12</td>\n      <td>28</td>\n      <td>7</td>\n      <td>15</td>\n      <td>5</td>\n      <td>13</td>\n    </tr>\n    <tr>\n      <th>8</th>\n      <td>Leeds</td>\n      <td>18</td>\n      <td>26</td>\n      <td>10</td>\n      <td>10</td>\n      <td>8</td>\n      <td>16</td>\n    </tr>\n    <tr>\n      <th>9</th>\n      <td>Leicester</td>\n      <td>27</td>\n      <td>27</td>\n      <td>16</td>\n      <td>13</td>\n      <td>11</td>\n      <td>14</td>\n    </tr>\n    <tr>\n      <th>10</th>\n      <td>Liverpool</td>\n      <td>43</td>\n      <td>15</td>\n      <td>19</td>\n      <td>5</td>\n      <td>24</td>\n      <td>10</td>\n    </tr>\n    <tr>\n      <th>11</th>\n      <td>Manchester City</td>\n      <td>43</td>\n      <td>13</td>\n      <td>22</td>\n      <td>6</td>\n      <td>21</td>\n      <td>7</td>\n    </tr>\n    <tr>\n      <th>12</th>\n      <td>Manchester United</td>\n      <td>23</td>\n      <td>25</td>\n      <td>9</td>\n      <td>12</td>\n      <td>14</td>\n      <td>13</td>\n    </tr>\n    <tr>\n      <th>13</th>\n      <td>Newcastle</td>\n      <td>14</td>\n      <td>29</td>\n      <td>9</td>\n      <td>16</td>\n      <td>5</td>\n      <td>13</td>\n    </tr>\n    <tr>\n      <th>14</th>\n      <td>Norwich</td>\n      <td>11</td>\n      <td>29</td>\n      <td>5</td>\n      <td>12</td>\n      <td>6</td>\n      <td>17</td>\n    </tr>\n    <tr>\n      <th>15</th>\n      <td>Southampton</td>\n      <td>22</td>\n      <td>27</td>\n      <td>13</td>\n      <td>8</td>\n      <td>9</td>\n      <td>19</td>\n    </tr>\n    <tr>\n      <th>16</th>\n      <td>Tottenham</td>\n      <td>22</td>\n      <td>15</td>\n      <td>14</td>\n      <td>7</td>\n      <td>8</td>\n      <td>8</td>\n    </tr>\n    <tr>\n      <th>17</th>\n      <td>Watford</td>\n      <td>16</td>\n      <td>31</td>\n      <td>7</td>\n      <td>20</td>\n      <td>9</td>\n      <td>11</td>\n    </tr>\n    <tr>\n      <th>18</th>\n      <td>West Ham</td>\n      <td>28</td>\n      <td>23</td>\n      <td>15</td>\n      <td>13</td>\n      <td>13</td>\n      <td>10</td>\n    </tr>\n    <tr>\n      <th>19</th>\n      <td>Wolves</td>\n      <td>16</td>\n      <td>11</td>\n      <td>8</td>\n      <td>4</td>\n      <td>8</td>\n      <td>7</td>\n    </tr>\n  </tbody>\n</table>\n</div>"
     },
     "execution_count": 31,
     "metadata": {},
     "output_type": "execute_result"
    }
   ],
   "source": [
    "def single_team_db(predicted_round: int):\n",
    "    games_df = games_allowed[games_allowed['round'] < predicted_round]\n",
    "    host_df = games_df.groupby('host').agg('sum').reset_index()\n",
    "    host_df.drop(labels=['round'], axis=1)\n",
    "    guest_df = games_df.groupby('guest').agg('sum').reset_index()\n",
    "    guest_df.drop(labels=['round'], axis=1)\n",
    "\n",
    "    tot_each_team_df = DataFrame(data={\n",
    "        \"team\": host_df.host,\n",
    "        \"GF_as_any\": host_df.goals_host + guest_df.goals_guest,\n",
    "        \"GA_as_any\": host_df.goals_guest + guest_df.goals_host,\n",
    "        \"GF_as_host\": host_df.goals_host,\n",
    "        \"GA_as_host\": host_df.goals_guest,\n",
    "        \"GF_as_guest\": guest_df.goals_guest,\n",
    "        \"GA_as_guest\": guest_df.goals_host,\n",
    "    })\n",
    "    tot_each_team_df.sort_values(by=['team'], ascending=True)\n",
    "    return tot_each_team_df\n",
    "\n",
    "\n",
    "final_single_team_db = single_team_db(predicted_round=1 + games_allowed['round'].max())\n",
    "final_single_team_db"
   ],
   "metadata": {
    "collapsed": false,
    "pycharm": {
     "name": "#%%\n"
    }
   }
  },
  {
   "cell_type": "code",
   "execution_count": 32,
   "outputs": [],
   "source": [
    "HOST_COLUMNS = {\n",
    "    'team': 'team1',\n",
    "    'GF_as_any': 'GF1_as_any',\n",
    "    'GA_as_any': 'GA1_as_any',\n",
    "    'GF_as_host': 'GF1_as_host',\n",
    "    'GA_as_host': 'GA1_as_host',\n",
    "}\n",
    "\n",
    "HOST_COLUMNS_TO_DEL = ['GF_as_guest', 'GA_as_guest']\n",
    "\n",
    "GUEST_COLUMNS = {\n",
    "    'team': 'team2',\n",
    "    'GF_as_any': 'GF2_as_any',\n",
    "    'GA_as_any': 'GA2_as_any',\n",
    "    'GF_as_guest': 'GF2_as_guest',\n",
    "    'GA_as_guest': 'GA2_as_guest',\n",
    "}\n",
    "\n",
    "GUEST_COLUMNS_TO_DEL = ['GF_as_host', 'GA_as_host']"
   ],
   "metadata": {
    "collapsed": false,
    "pycharm": {
     "name": "#%%\n"
    }
   }
  },
  {
   "cell_type": "code",
   "execution_count": 33,
   "outputs": [],
   "source": [
    "def matches_to_predict(predicted_round: int) -> games_allowed:\n",
    "    return games_allowed[games_allowed['round'] == predicted_round]"
   ],
   "metadata": {
    "collapsed": false,
    "pycharm": {
     "name": "#%%\n"
    }
   }
  },
  {
   "cell_type": "code",
   "execution_count": 40,
   "outputs": [
    {
     "data": {
      "text/plain": "               team1  GF1_as_any  GA1_as_any  GF1_as_host  GA1_as_host  \\\n0        Aston Villa          10          16            6            9   \n1            Everton           5          17            3           10   \n2              Leeds           7           6            4            2   \n3  Manchester United          11          19            4           10   \n4          Newcastle           9          16            6           10   \n5        Southampton           9          13            6            4   \n6          Tottenham           9           8            6            5   \n7            Watford          12          17            5            9   \n8           West Ham          12           9            6            5   \n9             Wolves           9           7            5            2   \n\n             team2  GF2_as_any  GA2_as_any  GF2_as_guest  GA2_as_guest  \n0        Leicester          15          15             7             6  \n1          Arsenal          12          10             4             7  \n2        Brentford           9          14             6             9  \n3   Crystal Palace          13          11             7             6  \n4          Burnley           9           9             3             5  \n5         Brighton           5          10             3             5  \n6          Norwich           6          12             3             9  \n7  Manchester City          17           7            10             4  \n8          Chelsea          21           4             9             1  \n9        Liverpool          28           8            16             4  ",
      "text/html": "<div>\n<style scoped>\n    .dataframe tbody tr th:only-of-type {\n        vertical-align: middle;\n    }\n\n    .dataframe tbody tr th {\n        vertical-align: top;\n    }\n\n    .dataframe thead th {\n        text-align: right;\n    }\n</style>\n<table border=\"1\" class=\"dataframe\">\n  <thead>\n    <tr style=\"text-align: right;\">\n      <th></th>\n      <th>team1</th>\n      <th>GF1_as_any</th>\n      <th>GA1_as_any</th>\n      <th>GF1_as_host</th>\n      <th>GA1_as_host</th>\n      <th>team2</th>\n      <th>GF2_as_any</th>\n      <th>GA2_as_any</th>\n      <th>GF2_as_guest</th>\n      <th>GA2_as_guest</th>\n    </tr>\n  </thead>\n  <tbody>\n    <tr>\n      <th>0</th>\n      <td>Aston Villa</td>\n      <td>10</td>\n      <td>16</td>\n      <td>6</td>\n      <td>9</td>\n      <td>Leicester</td>\n      <td>15</td>\n      <td>15</td>\n      <td>7</td>\n      <td>6</td>\n    </tr>\n    <tr>\n      <th>1</th>\n      <td>Everton</td>\n      <td>5</td>\n      <td>17</td>\n      <td>3</td>\n      <td>10</td>\n      <td>Arsenal</td>\n      <td>12</td>\n      <td>10</td>\n      <td>4</td>\n      <td>7</td>\n    </tr>\n    <tr>\n      <th>2</th>\n      <td>Leeds</td>\n      <td>7</td>\n      <td>6</td>\n      <td>4</td>\n      <td>2</td>\n      <td>Brentford</td>\n      <td>9</td>\n      <td>14</td>\n      <td>6</td>\n      <td>9</td>\n    </tr>\n    <tr>\n      <th>3</th>\n      <td>Manchester United</td>\n      <td>11</td>\n      <td>19</td>\n      <td>4</td>\n      <td>10</td>\n      <td>Crystal Palace</td>\n      <td>13</td>\n      <td>11</td>\n      <td>7</td>\n      <td>6</td>\n    </tr>\n    <tr>\n      <th>4</th>\n      <td>Newcastle</td>\n      <td>9</td>\n      <td>16</td>\n      <td>6</td>\n      <td>10</td>\n      <td>Burnley</td>\n      <td>9</td>\n      <td>9</td>\n      <td>3</td>\n      <td>5</td>\n    </tr>\n    <tr>\n      <th>5</th>\n      <td>Southampton</td>\n      <td>9</td>\n      <td>13</td>\n      <td>6</td>\n      <td>4</td>\n      <td>Brighton</td>\n      <td>5</td>\n      <td>10</td>\n      <td>3</td>\n      <td>5</td>\n    </tr>\n    <tr>\n      <th>6</th>\n      <td>Tottenham</td>\n      <td>9</td>\n      <td>8</td>\n      <td>6</td>\n      <td>5</td>\n      <td>Norwich</td>\n      <td>6</td>\n      <td>12</td>\n      <td>3</td>\n      <td>9</td>\n    </tr>\n    <tr>\n      <th>7</th>\n      <td>Watford</td>\n      <td>12</td>\n      <td>17</td>\n      <td>5</td>\n      <td>9</td>\n      <td>Manchester City</td>\n      <td>17</td>\n      <td>7</td>\n      <td>10</td>\n      <td>4</td>\n    </tr>\n    <tr>\n      <th>8</th>\n      <td>West Ham</td>\n      <td>12</td>\n      <td>9</td>\n      <td>6</td>\n      <td>5</td>\n      <td>Chelsea</td>\n      <td>21</td>\n      <td>4</td>\n      <td>9</td>\n      <td>1</td>\n    </tr>\n    <tr>\n      <th>9</th>\n      <td>Wolves</td>\n      <td>9</td>\n      <td>7</td>\n      <td>5</td>\n      <td>2</td>\n      <td>Liverpool</td>\n      <td>28</td>\n      <td>8</td>\n      <td>16</td>\n      <td>4</td>\n    </tr>\n  </tbody>\n</table>\n</div>"
     },
     "execution_count": 40,
     "metadata": {},
     "output_type": "execute_result"
    }
   ],
   "source": [
    "MIN_ROUND_PREDICTED = 8\n",
    "MAX_ROUND_PREDICTED = games_allowed['round'].max()\n",
    "\n",
    "\n",
    "def round_sums(predicted_round: int):\n",
    "    matches = matches_to_predict(predicted_round=predicted_round)\n",
    "\n",
    "    single_team_sums = single_team_db(predicted_round=predicted_round)\n",
    "\n",
    "    sums_up_to_round = None\n",
    "    for ind, row in matches.iterrows():\n",
    "        host = row['host']\n",
    "        guest = row['guest']\n",
    "\n",
    "        host_stats: DataFrame\n",
    "        guest_stats: DataFrame\n",
    "\n",
    "        host_stats = single_team_sums.loc[single_team_sums['team'] == host]\n",
    "        host_stats = host_stats.rename(columns=HOST_COLUMNS)\n",
    "        host_stats.drop(HOST_COLUMNS_TO_DEL, inplace=True, axis=1)\n",
    "\n",
    "        guest_stats = single_team_sums.loc[single_team_sums['team'] == guest]\n",
    "        guest_stats = guest_stats.rename(columns=GUEST_COLUMNS)\n",
    "        guest_stats.drop(GUEST_COLUMNS_TO_DEL, inplace=True, axis=1)\n",
    "\n",
    "        # there are no stats (sums) for initial rounds\n",
    "        # since not all teams play in a single round\n",
    "        if not host_stats.shape[0]:\n",
    "            continue\n",
    "\n",
    "        host_stats.index = [0]\n",
    "        guest_stats.index = [0]\n",
    "\n",
    "        line = pd.concat([host_stats, guest_stats], axis=1)\n",
    "        if sums_up_to_round is not None:\n",
    "            sums_up_to_round = pd.concat([sums_up_to_round, line], axis=0)\n",
    "        else:\n",
    "            sums_up_to_round = line\n",
    "\n",
    "    return sums_up_to_round\n",
    "\n",
    "\n",
    "PREDICTED_ROUND = 15\n",
    "\n",
    "# initial value\n",
    "all_sums_up_to_round = round_sums(predicted_round=MIN_ROUND_PREDICTED)\n",
    "for r in range(MIN_ROUND_PREDICTED + 1, PREDICTED_ROUND + 1):\n",
    "    next_round_sums = round_sums(r)\n",
    "    all_sums_up_to_round = pd.concat([all_sums_up_to_round, next_round_sums], axis=0)\n",
    "\n",
    "all_sums_up_to_round.reset_index(drop=True, inplace=True)\n",
    "all_sums_up_to_round.to_excel('output.xlsx')\n",
    "\n",
    "final = round_sums(predicted_round=PREDICTED_ROUND).reset_index(drop=True)\n",
    "final.to_excel('round_output.xlsx')\n",
    "final"
   ],
   "metadata": {
    "collapsed": false,
    "pycharm": {
     "name": "#%%\n"
    }
   }
  },
  {
   "cell_type": "code",
   "execution_count": null,
   "outputs": [],
   "source": [],
   "metadata": {
    "collapsed": false,
    "pycharm": {
     "name": "#%%\n"
    }
   }
  }
 ],
 "metadata": {
  "kernelspec": {
   "display_name": "Python 3 (ipykernel)",
   "language": "python",
   "name": "python3"
  },
  "language_info": {
   "codemirror_mode": {
    "name": "ipython",
    "version": 3
   },
   "file_extension": ".py",
   "mimetype": "text/x-python",
   "name": "python",
   "nbconvert_exporter": "python",
   "pygments_lexer": "ipython3",
   "version": "3.8.10"
  }
 },
 "nbformat": 4,
 "nbformat_minor": 1
}