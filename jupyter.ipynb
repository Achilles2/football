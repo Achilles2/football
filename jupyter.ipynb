{
 "cells": [
  {
   "cell_type": "code",
   "execution_count": 27,
   "metadata": {},
   "outputs": [],
   "source": [
    "import pandas as pd\n",
    "from IPython.core.display_functions import display\n",
    "from pandas import DataFrame, json_normalize\n",
    "from utils import num_of_round, is_allowed_round, response_from_json\n",
    "\n",
    "FILE_NAME = 'data/league39_season2018.json'\n",
    "response = response_from_json(file_name=FILE_NAME)"
   ]
  },
  {
   "cell_type": "code",
   "execution_count": 28,
   "outputs": [
    {
     "data": {
      "text/plain": "     fixture.id           fixture.referee fixture.timezone  \\\n0            65   Andre Marriner, England              UTC   \n1            66  Martin Atkinson, England              UTC   \n2            67     Kevin Friend, England              UTC   \n3            68        Mike Dean, England              UTC   \n4            69   Chris Kavanagh, England              UTC   \n..          ...                       ...              ...   \n375         440  Martin Atkinson, England              UTC   \n376         441    Jonathan Moss, England              UTC   \n377         442      Lee Probert, England              UTC   \n378         443   Andre Marriner, England              UTC   \n379         444   Chris Kavanagh, England              UTC   \n\n                  fixture.date  fixture.timestamp  fixture.periods.first  \\\n0    2018-08-10T19:00:00+00:00         1533927600             1533927600   \n1    2018-08-11T11:30:00+00:00         1533987000             1533987000   \n2    2018-08-11T14:00:00+00:00         1533996000             1533996000   \n3    2018-08-11T14:00:00+00:00         1533996000             1533996000   \n4    2018-08-11T14:00:00+00:00         1533996000             1533996000   \n..                         ...                ...                    ...   \n375  2019-05-12T14:00:00+00:00         1557669600             1557669600   \n376  2019-05-12T14:00:00+00:00         1557669600             1557669600   \n377  2019-05-12T14:00:00+00:00         1557669600             1557669600   \n378  2019-05-12T14:00:00+00:00         1557669600             1557669600   \n379  2019-05-12T14:00:00+00:00         1557669600             1557669600   \n\n     fixture.periods.second  fixture.venue.id         fixture.venue.name  \\\n0                1533931200             556.0               Old Trafford   \n1                1533990600             562.0             St James' Park   \n2                1533999600               NaN           Vitality Stadium   \n3                1533999600             535.0             Craven Cottage   \n4                1533999600               NaN       John Smith's Stadium   \n..                      ...               ...                        ...   \n375              1557673200             550.0                    Anfield   \n376              1557673200             556.0               Old Trafford   \n377              1557673200               NaN         St. Mary's Stadium   \n378              1557673200             593.0  Tottenham Hotspur Stadium   \n379              1557673200             596.0              Vicarage Road   \n\n      fixture.venue.city  ... goals.home goals.away  score.halftime.home  \\\n0             Manchester  ...          2          1                    1   \n1    Newcastle upon Tyne  ...          1          2                    1   \n2            Bournemouth  ...          2          0                    1   \n3                 London  ...          0          2                    0   \n4           Huddersfield  ...          0          3                    0   \n..                   ...  ...        ...        ...                  ...   \n375            Liverpool  ...          2          0                    1   \n376           Manchester  ...          0          2                    0   \n377          Southampton  ...          1          1                    1   \n378               London  ...          2          2                    1   \n379              Watford  ...          1          4                    0   \n\n     score.halftime.away score.fulltime.home score.fulltime.away  \\\n0                      0                   2                   1   \n1                      2                   1                   2   \n2                      0                   2                   0   \n3                      1                   0                   2   \n4                      2                   0                   3   \n..                   ...                 ...                 ...   \n375                    0                   2                   0   \n376                    1                   0                   2   \n377                    0                   1                   1   \n378                    0                   2                   2   \n379                    2                   1                   4   \n\n    score.extratime.home score.extratime.away  score.penalty.home  \\\n0                   None                 None                None   \n1                   None                 None                None   \n2                   None                 None                None   \n3                   None                 None                None   \n4                   None                 None                None   \n..                   ...                  ...                 ...   \n375                 None                 None                None   \n376                 None                 None                None   \n377                 None                 None                None   \n378                 None                 None                None   \n379                 None                 None                None   \n\n    score.penalty.away  \n0                 None  \n1                 None  \n2                 None  \n3                 None  \n4                 None  \n..                 ...  \n375               None  \n376               None  \n377               None  \n378               None  \n379               None  \n\n[380 rows x 38 columns]",
      "text/html": "<div>\n<style scoped>\n    .dataframe tbody tr th:only-of-type {\n        vertical-align: middle;\n    }\n\n    .dataframe tbody tr th {\n        vertical-align: top;\n    }\n\n    .dataframe thead th {\n        text-align: right;\n    }\n</style>\n<table border=\"1\" class=\"dataframe\">\n  <thead>\n    <tr style=\"text-align: right;\">\n      <th></th>\n      <th>fixture.id</th>\n      <th>fixture.referee</th>\n      <th>fixture.timezone</th>\n      <th>fixture.date</th>\n      <th>fixture.timestamp</th>\n      <th>fixture.periods.first</th>\n      <th>fixture.periods.second</th>\n      <th>fixture.venue.id</th>\n      <th>fixture.venue.name</th>\n      <th>fixture.venue.city</th>\n      <th>...</th>\n      <th>goals.home</th>\n      <th>goals.away</th>\n      <th>score.halftime.home</th>\n      <th>score.halftime.away</th>\n      <th>score.fulltime.home</th>\n      <th>score.fulltime.away</th>\n      <th>score.extratime.home</th>\n      <th>score.extratime.away</th>\n      <th>score.penalty.home</th>\n      <th>score.penalty.away</th>\n    </tr>\n  </thead>\n  <tbody>\n    <tr>\n      <th>0</th>\n      <td>65</td>\n      <td>Andre Marriner, England</td>\n      <td>UTC</td>\n      <td>2018-08-10T19:00:00+00:00</td>\n      <td>1533927600</td>\n      <td>1533927600</td>\n      <td>1533931200</td>\n      <td>556.0</td>\n      <td>Old Trafford</td>\n      <td>Manchester</td>\n      <td>...</td>\n      <td>2</td>\n      <td>1</td>\n      <td>1</td>\n      <td>0</td>\n      <td>2</td>\n      <td>1</td>\n      <td>None</td>\n      <td>None</td>\n      <td>None</td>\n      <td>None</td>\n    </tr>\n    <tr>\n      <th>1</th>\n      <td>66</td>\n      <td>Martin Atkinson, England</td>\n      <td>UTC</td>\n      <td>2018-08-11T11:30:00+00:00</td>\n      <td>1533987000</td>\n      <td>1533987000</td>\n      <td>1533990600</td>\n      <td>562.0</td>\n      <td>St James' Park</td>\n      <td>Newcastle upon Tyne</td>\n      <td>...</td>\n      <td>1</td>\n      <td>2</td>\n      <td>1</td>\n      <td>2</td>\n      <td>1</td>\n      <td>2</td>\n      <td>None</td>\n      <td>None</td>\n      <td>None</td>\n      <td>None</td>\n    </tr>\n    <tr>\n      <th>2</th>\n      <td>67</td>\n      <td>Kevin Friend, England</td>\n      <td>UTC</td>\n      <td>2018-08-11T14:00:00+00:00</td>\n      <td>1533996000</td>\n      <td>1533996000</td>\n      <td>1533999600</td>\n      <td>NaN</td>\n      <td>Vitality Stadium</td>\n      <td>Bournemouth</td>\n      <td>...</td>\n      <td>2</td>\n      <td>0</td>\n      <td>1</td>\n      <td>0</td>\n      <td>2</td>\n      <td>0</td>\n      <td>None</td>\n      <td>None</td>\n      <td>None</td>\n      <td>None</td>\n    </tr>\n    <tr>\n      <th>3</th>\n      <td>68</td>\n      <td>Mike Dean, England</td>\n      <td>UTC</td>\n      <td>2018-08-11T14:00:00+00:00</td>\n      <td>1533996000</td>\n      <td>1533996000</td>\n      <td>1533999600</td>\n      <td>535.0</td>\n      <td>Craven Cottage</td>\n      <td>London</td>\n      <td>...</td>\n      <td>0</td>\n      <td>2</td>\n      <td>0</td>\n      <td>1</td>\n      <td>0</td>\n      <td>2</td>\n      <td>None</td>\n      <td>None</td>\n      <td>None</td>\n      <td>None</td>\n    </tr>\n    <tr>\n      <th>4</th>\n      <td>69</td>\n      <td>Chris Kavanagh, England</td>\n      <td>UTC</td>\n      <td>2018-08-11T14:00:00+00:00</td>\n      <td>1533996000</td>\n      <td>1533996000</td>\n      <td>1533999600</td>\n      <td>NaN</td>\n      <td>John Smith's Stadium</td>\n      <td>Huddersfield</td>\n      <td>...</td>\n      <td>0</td>\n      <td>3</td>\n      <td>0</td>\n      <td>2</td>\n      <td>0</td>\n      <td>3</td>\n      <td>None</td>\n      <td>None</td>\n      <td>None</td>\n      <td>None</td>\n    </tr>\n    <tr>\n      <th>...</th>\n      <td>...</td>\n      <td>...</td>\n      <td>...</td>\n      <td>...</td>\n      <td>...</td>\n      <td>...</td>\n      <td>...</td>\n      <td>...</td>\n      <td>...</td>\n      <td>...</td>\n      <td>...</td>\n      <td>...</td>\n      <td>...</td>\n      <td>...</td>\n      <td>...</td>\n      <td>...</td>\n      <td>...</td>\n      <td>...</td>\n      <td>...</td>\n      <td>...</td>\n      <td>...</td>\n    </tr>\n    <tr>\n      <th>375</th>\n      <td>440</td>\n      <td>Martin Atkinson, England</td>\n      <td>UTC</td>\n      <td>2019-05-12T14:00:00+00:00</td>\n      <td>1557669600</td>\n      <td>1557669600</td>\n      <td>1557673200</td>\n      <td>550.0</td>\n      <td>Anfield</td>\n      <td>Liverpool</td>\n      <td>...</td>\n      <td>2</td>\n      <td>0</td>\n      <td>1</td>\n      <td>0</td>\n      <td>2</td>\n      <td>0</td>\n      <td>None</td>\n      <td>None</td>\n      <td>None</td>\n      <td>None</td>\n    </tr>\n    <tr>\n      <th>376</th>\n      <td>441</td>\n      <td>Jonathan Moss, England</td>\n      <td>UTC</td>\n      <td>2019-05-12T14:00:00+00:00</td>\n      <td>1557669600</td>\n      <td>1557669600</td>\n      <td>1557673200</td>\n      <td>556.0</td>\n      <td>Old Trafford</td>\n      <td>Manchester</td>\n      <td>...</td>\n      <td>0</td>\n      <td>2</td>\n      <td>0</td>\n      <td>1</td>\n      <td>0</td>\n      <td>2</td>\n      <td>None</td>\n      <td>None</td>\n      <td>None</td>\n      <td>None</td>\n    </tr>\n    <tr>\n      <th>377</th>\n      <td>442</td>\n      <td>Lee Probert, England</td>\n      <td>UTC</td>\n      <td>2019-05-12T14:00:00+00:00</td>\n      <td>1557669600</td>\n      <td>1557669600</td>\n      <td>1557673200</td>\n      <td>NaN</td>\n      <td>St. Mary's Stadium</td>\n      <td>Southampton</td>\n      <td>...</td>\n      <td>1</td>\n      <td>1</td>\n      <td>1</td>\n      <td>0</td>\n      <td>1</td>\n      <td>1</td>\n      <td>None</td>\n      <td>None</td>\n      <td>None</td>\n      <td>None</td>\n    </tr>\n    <tr>\n      <th>378</th>\n      <td>443</td>\n      <td>Andre Marriner, England</td>\n      <td>UTC</td>\n      <td>2019-05-12T14:00:00+00:00</td>\n      <td>1557669600</td>\n      <td>1557669600</td>\n      <td>1557673200</td>\n      <td>593.0</td>\n      <td>Tottenham Hotspur Stadium</td>\n      <td>London</td>\n      <td>...</td>\n      <td>2</td>\n      <td>2</td>\n      <td>1</td>\n      <td>0</td>\n      <td>2</td>\n      <td>2</td>\n      <td>None</td>\n      <td>None</td>\n      <td>None</td>\n      <td>None</td>\n    </tr>\n    <tr>\n      <th>379</th>\n      <td>444</td>\n      <td>Chris Kavanagh, England</td>\n      <td>UTC</td>\n      <td>2019-05-12T14:00:00+00:00</td>\n      <td>1557669600</td>\n      <td>1557669600</td>\n      <td>1557673200</td>\n      <td>596.0</td>\n      <td>Vicarage Road</td>\n      <td>Watford</td>\n      <td>...</td>\n      <td>1</td>\n      <td>4</td>\n      <td>0</td>\n      <td>2</td>\n      <td>1</td>\n      <td>4</td>\n      <td>None</td>\n      <td>None</td>\n      <td>None</td>\n      <td>None</td>\n    </tr>\n  </tbody>\n</table>\n<p>380 rows × 38 columns</p>\n</div>"
     },
     "execution_count": 28,
     "metadata": {},
     "output_type": "execute_result"
    }
   ],
   "source": [
    "all_response_data = json_normalize(data=response)\n",
    "all_response_data = all_response_data.astype(\n",
    "    {'goals.away': 'Int64', 'goals.home': 'Int64'}, errors='ignore')\n",
    "all_response_data"
   ],
   "metadata": {
    "collapsed": false,
    "pycharm": {
     "name": "#%%\n"
    }
   }
  },
  {
   "cell_type": "code",
   "execution_count": 29,
   "outputs": [
    {
     "data": {
      "text/plain": "                  host           guest  goals_host  goals_guest  round\n0    Manchester United       Leicester           2            1      1\n1            Newcastle       Tottenham           1            2      1\n2          Bournemouth         Cardiff           2            0      1\n3               Fulham  Crystal Palace           0            2      1\n4         Huddersfield         Chelsea           0            3      1\n..                 ...             ...         ...          ...    ...\n375          Liverpool          Wolves           2            0     38\n376  Manchester United         Cardiff           0            2     38\n377        Southampton    Huddersfield           1            1     38\n378          Tottenham         Everton           2            2     38\n379            Watford        West Ham           1            4     38\n\n[380 rows x 5 columns]",
      "text/html": "<div>\n<style scoped>\n    .dataframe tbody tr th:only-of-type {\n        vertical-align: middle;\n    }\n\n    .dataframe tbody tr th {\n        vertical-align: top;\n    }\n\n    .dataframe thead th {\n        text-align: right;\n    }\n</style>\n<table border=\"1\" class=\"dataframe\">\n  <thead>\n    <tr style=\"text-align: right;\">\n      <th></th>\n      <th>host</th>\n      <th>guest</th>\n      <th>goals_host</th>\n      <th>goals_guest</th>\n      <th>round</th>\n    </tr>\n  </thead>\n  <tbody>\n    <tr>\n      <th>0</th>\n      <td>Manchester United</td>\n      <td>Leicester</td>\n      <td>2</td>\n      <td>1</td>\n      <td>1</td>\n    </tr>\n    <tr>\n      <th>1</th>\n      <td>Newcastle</td>\n      <td>Tottenham</td>\n      <td>1</td>\n      <td>2</td>\n      <td>1</td>\n    </tr>\n    <tr>\n      <th>2</th>\n      <td>Bournemouth</td>\n      <td>Cardiff</td>\n      <td>2</td>\n      <td>0</td>\n      <td>1</td>\n    </tr>\n    <tr>\n      <th>3</th>\n      <td>Fulham</td>\n      <td>Crystal Palace</td>\n      <td>0</td>\n      <td>2</td>\n      <td>1</td>\n    </tr>\n    <tr>\n      <th>4</th>\n      <td>Huddersfield</td>\n      <td>Chelsea</td>\n      <td>0</td>\n      <td>3</td>\n      <td>1</td>\n    </tr>\n    <tr>\n      <th>...</th>\n      <td>...</td>\n      <td>...</td>\n      <td>...</td>\n      <td>...</td>\n      <td>...</td>\n    </tr>\n    <tr>\n      <th>375</th>\n      <td>Liverpool</td>\n      <td>Wolves</td>\n      <td>2</td>\n      <td>0</td>\n      <td>38</td>\n    </tr>\n    <tr>\n      <th>376</th>\n      <td>Manchester United</td>\n      <td>Cardiff</td>\n      <td>0</td>\n      <td>2</td>\n      <td>38</td>\n    </tr>\n    <tr>\n      <th>377</th>\n      <td>Southampton</td>\n      <td>Huddersfield</td>\n      <td>1</td>\n      <td>1</td>\n      <td>38</td>\n    </tr>\n    <tr>\n      <th>378</th>\n      <td>Tottenham</td>\n      <td>Everton</td>\n      <td>2</td>\n      <td>2</td>\n      <td>38</td>\n    </tr>\n    <tr>\n      <th>379</th>\n      <td>Watford</td>\n      <td>West Ham</td>\n      <td>1</td>\n      <td>4</td>\n      <td>38</td>\n    </tr>\n  </tbody>\n</table>\n<p>380 rows × 5 columns</p>\n</div>"
     },
     "execution_count": 29,
     "metadata": {},
     "output_type": "execute_result"
    }
   ],
   "source": [
    "COLUMN_NAMES_DICT = {'teams.home.name': 'host',\n",
    "                     'teams.away.name': 'guest',\n",
    "                     'goals.home': 'goals_host',\n",
    "                     'goals.away': 'goals_guest',\n",
    "                     'league.round': 'round'}\n",
    "\n",
    "all_games = all_response_data[COLUMN_NAMES_DICT.keys()]\n",
    "all_games = all_games.rename(columns=COLUMN_NAMES_DICT)\n",
    "all_games['round'] = all_games['round'].apply(lambda s: num_of_round(s))\n",
    "all_games"
   ],
   "metadata": {
    "collapsed": false,
    "pycharm": {
     "name": "#%%\n"
    }
   }
  },
  {
   "cell_type": "code",
   "execution_count": 30,
   "outputs": [
    {
     "data": {
      "text/plain": "                  host              guest  goals_host  goals_guest  round\n60            West Ham  Manchester United           3            1      7\n61             Arsenal            Watford           2            0      7\n62             Everton             Fulham           3            0      7\n63        Huddersfield          Tottenham           0            2      7\n64     Manchester City           Brighton           2            0      7\n..                 ...                ...         ...          ...    ...\n315             Fulham    Manchester City           0            2     32\n316          Leicester        Bournemouth           2            0     32\n317          Liverpool          Tottenham           2            1     32\n318  Manchester United            Watford           2            1     32\n319           West Ham            Everton           0            2     32\n\n[260 rows x 5 columns]",
      "text/html": "<div>\n<style scoped>\n    .dataframe tbody tr th:only-of-type {\n        vertical-align: middle;\n    }\n\n    .dataframe tbody tr th {\n        vertical-align: top;\n    }\n\n    .dataframe thead th {\n        text-align: right;\n    }\n</style>\n<table border=\"1\" class=\"dataframe\">\n  <thead>\n    <tr style=\"text-align: right;\">\n      <th></th>\n      <th>host</th>\n      <th>guest</th>\n      <th>goals_host</th>\n      <th>goals_guest</th>\n      <th>round</th>\n    </tr>\n  </thead>\n  <tbody>\n    <tr>\n      <th>60</th>\n      <td>West Ham</td>\n      <td>Manchester United</td>\n      <td>3</td>\n      <td>1</td>\n      <td>7</td>\n    </tr>\n    <tr>\n      <th>61</th>\n      <td>Arsenal</td>\n      <td>Watford</td>\n      <td>2</td>\n      <td>0</td>\n      <td>7</td>\n    </tr>\n    <tr>\n      <th>62</th>\n      <td>Everton</td>\n      <td>Fulham</td>\n      <td>3</td>\n      <td>0</td>\n      <td>7</td>\n    </tr>\n    <tr>\n      <th>63</th>\n      <td>Huddersfield</td>\n      <td>Tottenham</td>\n      <td>0</td>\n      <td>2</td>\n      <td>7</td>\n    </tr>\n    <tr>\n      <th>64</th>\n      <td>Manchester City</td>\n      <td>Brighton</td>\n      <td>2</td>\n      <td>0</td>\n      <td>7</td>\n    </tr>\n    <tr>\n      <th>...</th>\n      <td>...</td>\n      <td>...</td>\n      <td>...</td>\n      <td>...</td>\n      <td>...</td>\n    </tr>\n    <tr>\n      <th>315</th>\n      <td>Fulham</td>\n      <td>Manchester City</td>\n      <td>0</td>\n      <td>2</td>\n      <td>32</td>\n    </tr>\n    <tr>\n      <th>316</th>\n      <td>Leicester</td>\n      <td>Bournemouth</td>\n      <td>2</td>\n      <td>0</td>\n      <td>32</td>\n    </tr>\n    <tr>\n      <th>317</th>\n      <td>Liverpool</td>\n      <td>Tottenham</td>\n      <td>2</td>\n      <td>1</td>\n      <td>32</td>\n    </tr>\n    <tr>\n      <th>318</th>\n      <td>Manchester United</td>\n      <td>Watford</td>\n      <td>2</td>\n      <td>1</td>\n      <td>32</td>\n    </tr>\n    <tr>\n      <th>319</th>\n      <td>West Ham</td>\n      <td>Everton</td>\n      <td>0</td>\n      <td>2</td>\n      <td>32</td>\n    </tr>\n  </tbody>\n</table>\n<p>260 rows × 5 columns</p>\n</div>"
     },
     "execution_count": 30,
     "metadata": {},
     "output_type": "execute_result"
    }
   ],
   "source": [
    "games_allowed = all_games[all_games[\"round\"].apply(lambda n: is_allowed_round(n))]\n",
    "games_allowed"
   ],
   "metadata": {
    "collapsed": false,
    "pycharm": {
     "name": "#%%\n"
    }
   }
  },
  {
   "cell_type": "code",
   "execution_count": 31,
   "outputs": [
    {
     "data": {
      "text/plain": "                 host            guest  goals_host  goals_guest  round\n70           Brighton         West Ham           1            0      8\n71            Burnley     Huddersfield           1            1      8\n72     Crystal Palace           Wolves           0            1      8\n73             Fulham          Arsenal           1            5      8\n74          Leicester          Everton           1            2      8\n75          Liverpool  Manchester City           0            0      8\n76  Manchester United        Newcastle           3            2      8\n77        Southampton          Chelsea           0            3      8\n78          Tottenham          Cardiff           1            0      8\n79            Watford      Bournemouth           0            4      8",
      "text/html": "<div>\n<style scoped>\n    .dataframe tbody tr th:only-of-type {\n        vertical-align: middle;\n    }\n\n    .dataframe tbody tr th {\n        vertical-align: top;\n    }\n\n    .dataframe thead th {\n        text-align: right;\n    }\n</style>\n<table border=\"1\" class=\"dataframe\">\n  <thead>\n    <tr style=\"text-align: right;\">\n      <th></th>\n      <th>host</th>\n      <th>guest</th>\n      <th>goals_host</th>\n      <th>goals_guest</th>\n      <th>round</th>\n    </tr>\n  </thead>\n  <tbody>\n    <tr>\n      <th>70</th>\n      <td>Brighton</td>\n      <td>West Ham</td>\n      <td>1</td>\n      <td>0</td>\n      <td>8</td>\n    </tr>\n    <tr>\n      <th>71</th>\n      <td>Burnley</td>\n      <td>Huddersfield</td>\n      <td>1</td>\n      <td>1</td>\n      <td>8</td>\n    </tr>\n    <tr>\n      <th>72</th>\n      <td>Crystal Palace</td>\n      <td>Wolves</td>\n      <td>0</td>\n      <td>1</td>\n      <td>8</td>\n    </tr>\n    <tr>\n      <th>73</th>\n      <td>Fulham</td>\n      <td>Arsenal</td>\n      <td>1</td>\n      <td>5</td>\n      <td>8</td>\n    </tr>\n    <tr>\n      <th>74</th>\n      <td>Leicester</td>\n      <td>Everton</td>\n      <td>1</td>\n      <td>2</td>\n      <td>8</td>\n    </tr>\n    <tr>\n      <th>75</th>\n      <td>Liverpool</td>\n      <td>Manchester City</td>\n      <td>0</td>\n      <td>0</td>\n      <td>8</td>\n    </tr>\n    <tr>\n      <th>76</th>\n      <td>Manchester United</td>\n      <td>Newcastle</td>\n      <td>3</td>\n      <td>2</td>\n      <td>8</td>\n    </tr>\n    <tr>\n      <th>77</th>\n      <td>Southampton</td>\n      <td>Chelsea</td>\n      <td>0</td>\n      <td>3</td>\n      <td>8</td>\n    </tr>\n    <tr>\n      <th>78</th>\n      <td>Tottenham</td>\n      <td>Cardiff</td>\n      <td>1</td>\n      <td>0</td>\n      <td>8</td>\n    </tr>\n    <tr>\n      <th>79</th>\n      <td>Watford</td>\n      <td>Bournemouth</td>\n      <td>0</td>\n      <td>4</td>\n      <td>8</td>\n    </tr>\n  </tbody>\n</table>\n</div>"
     },
     "execution_count": 31,
     "metadata": {},
     "output_type": "execute_result"
    }
   ],
   "source": [
    "games_allowed[ games_allowed['round'] == 8 ]"
   ],
   "metadata": {
    "collapsed": false,
    "pycharm": {
     "name": "#%%\n"
    }
   }
  },
  {
   "cell_type": "code",
   "execution_count": 32,
   "outputs": [
    {
     "data": {
      "text/plain": "                 team  GF_as_any  GA_as_any  GF_as_host  GA_as_host  \\\n0             Arsenal         54         33          34           9   \n1         Bournemouth         33         47          20          17   \n2            Brighton         24         37          11          12   \n3             Burnley         30         49          16          23   \n4             Cardiff         27         45          17          25   \n5             Chelsea         41         30          23           7   \n6      Crystal Palace         34         37          13          13   \n7             Everton         37         31          19          16   \n8              Fulham         21         59          14          27   \n9        Huddersfield         15         45           7          20   \n10          Leicester         31         33          15          16   \n11          Liverpool         58         17          38          10   \n12    Manchester City         64         18          42          10   \n13  Manchester United         51         34          27          16   \n14          Newcastle         27         34          16          14   \n15        Southampton         30         42          16          18   \n16          Tottenham         48         27          23          10   \n17            Watford         33         41          13          16   \n18           West Ham         36         37          26          22   \n19             Wolves         35         33          21          17   \n\n    GF_as_guest  GA_as_guest  \n0            20           24  \n1            13           30  \n2            13           25  \n3            14           26  \n4            10           20  \n5            18           23  \n6            21           24  \n7            18           15  \n8             7           32  \n9             8           25  \n10           16           17  \n11           20            7  \n12           22            8  \n13           24           18  \n14           11           20  \n15           14           24  \n16           25           17  \n17           20           25  \n18           10           15  \n19           14           16  ",
      "text/html": "<div>\n<style scoped>\n    .dataframe tbody tr th:only-of-type {\n        vertical-align: middle;\n    }\n\n    .dataframe tbody tr th {\n        vertical-align: top;\n    }\n\n    .dataframe thead th {\n        text-align: right;\n    }\n</style>\n<table border=\"1\" class=\"dataframe\">\n  <thead>\n    <tr style=\"text-align: right;\">\n      <th></th>\n      <th>team</th>\n      <th>GF_as_any</th>\n      <th>GA_as_any</th>\n      <th>GF_as_host</th>\n      <th>GA_as_host</th>\n      <th>GF_as_guest</th>\n      <th>GA_as_guest</th>\n    </tr>\n  </thead>\n  <tbody>\n    <tr>\n      <th>0</th>\n      <td>Arsenal</td>\n      <td>54</td>\n      <td>33</td>\n      <td>34</td>\n      <td>9</td>\n      <td>20</td>\n      <td>24</td>\n    </tr>\n    <tr>\n      <th>1</th>\n      <td>Bournemouth</td>\n      <td>33</td>\n      <td>47</td>\n      <td>20</td>\n      <td>17</td>\n      <td>13</td>\n      <td>30</td>\n    </tr>\n    <tr>\n      <th>2</th>\n      <td>Brighton</td>\n      <td>24</td>\n      <td>37</td>\n      <td>11</td>\n      <td>12</td>\n      <td>13</td>\n      <td>25</td>\n    </tr>\n    <tr>\n      <th>3</th>\n      <td>Burnley</td>\n      <td>30</td>\n      <td>49</td>\n      <td>16</td>\n      <td>23</td>\n      <td>14</td>\n      <td>26</td>\n    </tr>\n    <tr>\n      <th>4</th>\n      <td>Cardiff</td>\n      <td>27</td>\n      <td>45</td>\n      <td>17</td>\n      <td>25</td>\n      <td>10</td>\n      <td>20</td>\n    </tr>\n    <tr>\n      <th>5</th>\n      <td>Chelsea</td>\n      <td>41</td>\n      <td>30</td>\n      <td>23</td>\n      <td>7</td>\n      <td>18</td>\n      <td>23</td>\n    </tr>\n    <tr>\n      <th>6</th>\n      <td>Crystal Palace</td>\n      <td>34</td>\n      <td>37</td>\n      <td>13</td>\n      <td>13</td>\n      <td>21</td>\n      <td>24</td>\n    </tr>\n    <tr>\n      <th>7</th>\n      <td>Everton</td>\n      <td>37</td>\n      <td>31</td>\n      <td>19</td>\n      <td>16</td>\n      <td>18</td>\n      <td>15</td>\n    </tr>\n    <tr>\n      <th>8</th>\n      <td>Fulham</td>\n      <td>21</td>\n      <td>59</td>\n      <td>14</td>\n      <td>27</td>\n      <td>7</td>\n      <td>32</td>\n    </tr>\n    <tr>\n      <th>9</th>\n      <td>Huddersfield</td>\n      <td>15</td>\n      <td>45</td>\n      <td>7</td>\n      <td>20</td>\n      <td>8</td>\n      <td>25</td>\n    </tr>\n    <tr>\n      <th>10</th>\n      <td>Leicester</td>\n      <td>31</td>\n      <td>33</td>\n      <td>15</td>\n      <td>16</td>\n      <td>16</td>\n      <td>17</td>\n    </tr>\n    <tr>\n      <th>11</th>\n      <td>Liverpool</td>\n      <td>58</td>\n      <td>17</td>\n      <td>38</td>\n      <td>10</td>\n      <td>20</td>\n      <td>7</td>\n    </tr>\n    <tr>\n      <th>12</th>\n      <td>Manchester City</td>\n      <td>64</td>\n      <td>18</td>\n      <td>42</td>\n      <td>10</td>\n      <td>22</td>\n      <td>8</td>\n    </tr>\n    <tr>\n      <th>13</th>\n      <td>Manchester United</td>\n      <td>51</td>\n      <td>34</td>\n      <td>27</td>\n      <td>16</td>\n      <td>24</td>\n      <td>18</td>\n    </tr>\n    <tr>\n      <th>14</th>\n      <td>Newcastle</td>\n      <td>27</td>\n      <td>34</td>\n      <td>16</td>\n      <td>14</td>\n      <td>11</td>\n      <td>20</td>\n    </tr>\n    <tr>\n      <th>15</th>\n      <td>Southampton</td>\n      <td>30</td>\n      <td>42</td>\n      <td>16</td>\n      <td>18</td>\n      <td>14</td>\n      <td>24</td>\n    </tr>\n    <tr>\n      <th>16</th>\n      <td>Tottenham</td>\n      <td>48</td>\n      <td>27</td>\n      <td>23</td>\n      <td>10</td>\n      <td>25</td>\n      <td>17</td>\n    </tr>\n    <tr>\n      <th>17</th>\n      <td>Watford</td>\n      <td>33</td>\n      <td>41</td>\n      <td>13</td>\n      <td>16</td>\n      <td>20</td>\n      <td>25</td>\n    </tr>\n    <tr>\n      <th>18</th>\n      <td>West Ham</td>\n      <td>36</td>\n      <td>37</td>\n      <td>26</td>\n      <td>22</td>\n      <td>10</td>\n      <td>15</td>\n    </tr>\n    <tr>\n      <th>19</th>\n      <td>Wolves</td>\n      <td>35</td>\n      <td>33</td>\n      <td>21</td>\n      <td>17</td>\n      <td>14</td>\n      <td>16</td>\n    </tr>\n  </tbody>\n</table>\n</div>"
     },
     "execution_count": 32,
     "metadata": {},
     "output_type": "execute_result"
    }
   ],
   "source": [
    "def single_team_db(predicted_round: int):\n",
    "    games_df = games_allowed[games_allowed['round'] < predicted_round]\n",
    "    host_df = games_df.groupby('host').agg('sum').reset_index()\n",
    "    host_df.drop(labels=['round'], axis=1)\n",
    "    guest_df = games_df.groupby('guest').agg('sum').reset_index()\n",
    "    guest_df.drop(labels=['round'], axis=1)\n",
    "\n",
    "    tot_each_team_df = DataFrame(data={\n",
    "        \"team\": host_df.host,\n",
    "        \"GF_as_any\": host_df.goals_host + guest_df.goals_guest,\n",
    "        \"GA_as_any\": host_df.goals_guest + guest_df.goals_host,\n",
    "        \"GF_as_host\": host_df.goals_host,\n",
    "        \"GA_as_host\": host_df.goals_guest,\n",
    "        \"GF_as_guest\": guest_df.goals_guest,\n",
    "        \"GA_as_guest\": guest_df.goals_host,\n",
    "    })\n",
    "    tot_each_team_df.sort_values(by=['team'], ascending=True)\n",
    "    return tot_each_team_df\n",
    "\n",
    "final_single_team_db = single_team_db(predicted_round=1 + games_allowed['round'].max())\n",
    "final_single_team_db"
   ],
   "metadata": {
    "collapsed": false,
    "pycharm": {
     "name": "#%%\n"
    }
   }
  },
  {
   "cell_type": "code",
   "execution_count": 33,
   "outputs": [],
   "source": [
    "HOST_COLUMNS_NAMES = {\n",
    "    'team': 'team1',\n",
    "    'GF_as_any': 'GF1_as_any',\n",
    "    'GA_as_any': 'GA1_as_any',\n",
    "    'GF_as_host': 'GF1_as_host',\n",
    "    'GA_as_host': 'GA1_as_host',\n",
    "}\n",
    "\n",
    "GUEST_COLUMNS_NAMES = {\n",
    "    'team': 'team2',\n",
    "    'GF_as_any': 'GF2_as_any',\n",
    "    'GA_as_any': 'GA2_as_any',\n",
    "    'GF_as_guest': 'GF2_as_guest',\n",
    "    'GA_as_guest': 'GA2_as_guest',\n",
    "}"
   ],
   "metadata": {
    "collapsed": false,
    "pycharm": {
     "name": "#%%\n"
    }
   }
  },
  {
   "cell_type": "code",
   "execution_count": 34,
   "outputs": [],
   "source": [
    "def matches_to_predict(predicted_round: int) -> games_allowed:\n",
    "    return games_allowed[games_allowed['round'] == predicted_round]"
   ],
   "metadata": {
    "collapsed": false,
    "pycharm": {
     "name": "#%%\n"
    }
   }
  },
  {
   "cell_type": "code",
   "execution_count": 63,
   "outputs": [],
   "source": [
    "MIN_ROUND_PREDICTED = 8\n",
    "MAX_ROUND_PREDICTED = games_allowed['round'].max()\n",
    "\n",
    "\n",
    "def final_df(predicted_round: int):\n",
    "    matches = matches_to_predict(predicted_round=predicted_round)\n",
    "\n",
    "    single_team_sums = single_team_db(predicted_round=predicted_round)\n",
    "\n",
    "    sums_up_to_round = None\n",
    "    for ind, row in matches.iterrows():\n",
    "        host = row['host']\n",
    "        guest = row['guest']\n",
    "\n",
    "        host_stats: DataFrame\n",
    "        guest_stats: DataFrame\n",
    "\n",
    "        host_stats = single_team_sums.loc[single_team_sums['team'] == host]\n",
    "        guest_stats = single_team_sums.loc[single_team_sums['team'] == guest]\n",
    "        host_stats = host_stats.rename(columns=HOST_COLUMNS_NAMES)\n",
    "        guest_stats = guest_stats.rename(columns=GUEST_COLUMNS_NAMES)\n",
    "\n",
    "        # there are no stats (sums) for initial rounds\n",
    "        # since not all teams play in a single round\n",
    "        if not host_stats.shape[0]:\n",
    "            continue\n",
    "\n",
    "        host_stats.index = [0]\n",
    "        guest_stats.index = [0]\n",
    "\n",
    "        line = pd.concat([host_stats, guest_stats], axis=1)\n",
    "        if sums_up_to_round is not None:\n",
    "            sums_up_to_round = pd.concat([sums_up_to_round, line], axis=0)\n",
    "        else:\n",
    "            sums_up_to_round = line\n",
    "\n",
    "    return sums_up_to_round\n",
    "\n",
    "PREDICTED_ROUND = 15\n",
    "\n",
    "# initial value\n",
    "all_sums_up_to_round = final_df(predicted_round=MIN_ROUND_PREDICTED)\n",
    "for r in range(MIN_ROUND_PREDICTED + 1, PREDICTED_ROUND + 1):\n",
    "    next_round_sums = final_df(r)\n",
    "    all_sums_up_to_round = pd.concat([all_sums_up_to_round, next_round_sums], axis=0)\n",
    "\n",
    "all_sums_up_to_round.reset_index(drop=True, inplace=True)\n",
    "all_sums_up_to_round.to_excel('output.xlsx')\n",
    "\n",
    "final_df(predicted_round=PREDICTED_ROUND).reset_index(drop=True).to_excel('round_output.xlsx')"
   ],
   "metadata": {
    "collapsed": false,
    "pycharm": {
     "name": "#%%\n"
    }
   }
  },
  {
   "cell_type": "code",
   "execution_count": null,
   "outputs": [],
   "source": [],
   "metadata": {
    "collapsed": false,
    "pycharm": {
     "name": "#%%\n"
    }
   }
  }
 ],
 "metadata": {
  "kernelspec": {
   "display_name": "Python 3 (ipykernel)",
   "language": "python",
   "name": "python3"
  },
  "language_info": {
   "codemirror_mode": {
    "name": "ipython",
    "version": 3
   },
   "file_extension": ".py",
   "mimetype": "text/x-python",
   "name": "python",
   "nbconvert_exporter": "python",
   "pygments_lexer": "ipython3",
   "version": "3.8.10"
  }
 },
 "nbformat": 4,
 "nbformat_minor": 1
}