{
 "cells": [
  {
   "cell_type": "code",
   "execution_count": 28,
   "metadata": {},
   "outputs": [],
   "source": [
    "from json import loads\n",
    "from pandas import DataFrame\n",
    "\n",
    "\n",
    "FILE_NAME = 'league39_season2020.json'\n",
    "\n",
    "with open(FILE_NAME) as f:\n",
    "    l = f.readlines()\n",
    "    as_str = ''.join(l)\n",
    "    as_dict = loads(as_str)\n",
    "\n",
    "response = as_dict['response']"
   ]
  },
  {
   "cell_type": "code",
   "execution_count": 29,
   "outputs": [],
   "source": [
    "def round_num(round_str: str):\n",
    "    s = round_str.lstrip(\"Regular Season - \")\n",
    "    return int(s)"
   ],
   "metadata": {
    "collapsed": false,
    "pycharm": {
     "name": "#%%\n"
    }
   }
  },
  {
   "cell_type": "code",
   "execution_count": 30,
   "metadata": {
    "pycharm": {
     "name": "#%%\n"
    }
   },
   "outputs": [],
   "source": [
    "all_games = []\n",
    "for game in response:\n",
    "    host = game[\"teams\"][\"home\"]['name']\n",
    "    hosted = game[\"teams\"][\"away\"]['name']\n",
    "    goals_host = game[\"goals\"][\"home\"]\n",
    "    goals_hosted = game[\"goals\"][\"away\"]\n",
    "\n",
    "    round_str = game[\"league\"][\"round\"]\n",
    "    round_n = round_num(round_str=round_str)\n",
    "\n",
    "    all_games.append(\n",
    "        [host, hosted, goals_host, goals_hosted, round_n])\n",
    "\n",
    "all_games;"
   ]
  },
  {
   "cell_type": "code",
   "execution_count": 31,
   "metadata": {
    "pycharm": {
     "name": "#%%\n"
    }
   },
   "outputs": [
    {
     "data": {
      "text/plain": "                host             hosted  goals_host  goals_hosted  round\n0            Burnley  Manchester United           0             1      1\n1     Crystal Palace        Southampton           1             0      1\n2             Fulham            Arsenal           0             3      1\n3          Liverpool              Leeds           4             3      1\n4    Manchester City        Aston Villa           2             0      1\n..               ...                ...         ...           ...    ...\n375        Liverpool     Crystal Palace           2             0     38\n376  Manchester City            Everton           5             0     38\n377    Sheffield Utd            Burnley           1             0     38\n378         West Ham        Southampton           3             0     38\n379           Wolves  Manchester United           1             2     38\n\n[380 rows x 5 columns]",
      "text/html": "<div>\n<style scoped>\n    .dataframe tbody tr th:only-of-type {\n        vertical-align: middle;\n    }\n\n    .dataframe tbody tr th {\n        vertical-align: top;\n    }\n\n    .dataframe thead th {\n        text-align: right;\n    }\n</style>\n<table border=\"1\" class=\"dataframe\">\n  <thead>\n    <tr style=\"text-align: right;\">\n      <th></th>\n      <th>host</th>\n      <th>hosted</th>\n      <th>goals_host</th>\n      <th>goals_hosted</th>\n      <th>round</th>\n    </tr>\n  </thead>\n  <tbody>\n    <tr>\n      <th>0</th>\n      <td>Burnley</td>\n      <td>Manchester United</td>\n      <td>0</td>\n      <td>1</td>\n      <td>1</td>\n    </tr>\n    <tr>\n      <th>1</th>\n      <td>Crystal Palace</td>\n      <td>Southampton</td>\n      <td>1</td>\n      <td>0</td>\n      <td>1</td>\n    </tr>\n    <tr>\n      <th>2</th>\n      <td>Fulham</td>\n      <td>Arsenal</td>\n      <td>0</td>\n      <td>3</td>\n      <td>1</td>\n    </tr>\n    <tr>\n      <th>3</th>\n      <td>Liverpool</td>\n      <td>Leeds</td>\n      <td>4</td>\n      <td>3</td>\n      <td>1</td>\n    </tr>\n    <tr>\n      <th>4</th>\n      <td>Manchester City</td>\n      <td>Aston Villa</td>\n      <td>2</td>\n      <td>0</td>\n      <td>1</td>\n    </tr>\n    <tr>\n      <th>...</th>\n      <td>...</td>\n      <td>...</td>\n      <td>...</td>\n      <td>...</td>\n      <td>...</td>\n    </tr>\n    <tr>\n      <th>375</th>\n      <td>Liverpool</td>\n      <td>Crystal Palace</td>\n      <td>2</td>\n      <td>0</td>\n      <td>38</td>\n    </tr>\n    <tr>\n      <th>376</th>\n      <td>Manchester City</td>\n      <td>Everton</td>\n      <td>5</td>\n      <td>0</td>\n      <td>38</td>\n    </tr>\n    <tr>\n      <th>377</th>\n      <td>Sheffield Utd</td>\n      <td>Burnley</td>\n      <td>1</td>\n      <td>0</td>\n      <td>38</td>\n    </tr>\n    <tr>\n      <th>378</th>\n      <td>West Ham</td>\n      <td>Southampton</td>\n      <td>3</td>\n      <td>0</td>\n      <td>38</td>\n    </tr>\n    <tr>\n      <th>379</th>\n      <td>Wolves</td>\n      <td>Manchester United</td>\n      <td>1</td>\n      <td>2</td>\n      <td>38</td>\n    </tr>\n  </tbody>\n</table>\n<p>380 rows × 5 columns</p>\n</div>"
     },
     "execution_count": 31,
     "metadata": {},
     "output_type": "execute_result"
    }
   ],
   "source": [
    "df = DataFrame(all_games, columns=['host', 'hosted', 'goals_host', 'goals_hosted', 'round'])\n",
    "df"
   ]
  },
  {
   "cell_type": "code",
   "execution_count": 32,
   "metadata": {
    "pycharm": {
     "name": "#%%\n"
    }
   },
   "outputs": [
    {
     "data": {
      "text/plain": "                 host  goals_host  goals_hosted\n0             Arsenal          24            21\n1         Aston Villa          29            27\n2            Brighton          22            22\n3             Burnley          14            27\n4             Chelsea          31            18\n5      Crystal Palace          20            32\n6             Everton          24            28\n7              Fulham           9            28\n8               Leeds          28            21\n9           Leicester          34            30\n10          Liverpool          29            20\n11    Manchester City          43            17\n12  Manchester United          38            28\n13          Newcastle          26            33\n14      Sheffield Utd          12            27\n15        Southampton          28            25\n16          Tottenham          35            20\n17          West Brom          15            39\n18           West Ham          32            22\n19             Wolves          21            25",
      "text/html": "<div>\n<style scoped>\n    .dataframe tbody tr th:only-of-type {\n        vertical-align: middle;\n    }\n\n    .dataframe tbody tr th {\n        vertical-align: top;\n    }\n\n    .dataframe thead th {\n        text-align: right;\n    }\n</style>\n<table border=\"1\" class=\"dataframe\">\n  <thead>\n    <tr style=\"text-align: right;\">\n      <th></th>\n      <th>host</th>\n      <th>goals_host</th>\n      <th>goals_hosted</th>\n    </tr>\n  </thead>\n  <tbody>\n    <tr>\n      <th>0</th>\n      <td>Arsenal</td>\n      <td>24</td>\n      <td>21</td>\n    </tr>\n    <tr>\n      <th>1</th>\n      <td>Aston Villa</td>\n      <td>29</td>\n      <td>27</td>\n    </tr>\n    <tr>\n      <th>2</th>\n      <td>Brighton</td>\n      <td>22</td>\n      <td>22</td>\n    </tr>\n    <tr>\n      <th>3</th>\n      <td>Burnley</td>\n      <td>14</td>\n      <td>27</td>\n    </tr>\n    <tr>\n      <th>4</th>\n      <td>Chelsea</td>\n      <td>31</td>\n      <td>18</td>\n    </tr>\n    <tr>\n      <th>5</th>\n      <td>Crystal Palace</td>\n      <td>20</td>\n      <td>32</td>\n    </tr>\n    <tr>\n      <th>6</th>\n      <td>Everton</td>\n      <td>24</td>\n      <td>28</td>\n    </tr>\n    <tr>\n      <th>7</th>\n      <td>Fulham</td>\n      <td>9</td>\n      <td>28</td>\n    </tr>\n    <tr>\n      <th>8</th>\n      <td>Leeds</td>\n      <td>28</td>\n      <td>21</td>\n    </tr>\n    <tr>\n      <th>9</th>\n      <td>Leicester</td>\n      <td>34</td>\n      <td>30</td>\n    </tr>\n    <tr>\n      <th>10</th>\n      <td>Liverpool</td>\n      <td>29</td>\n      <td>20</td>\n    </tr>\n    <tr>\n      <th>11</th>\n      <td>Manchester City</td>\n      <td>43</td>\n      <td>17</td>\n    </tr>\n    <tr>\n      <th>12</th>\n      <td>Manchester United</td>\n      <td>38</td>\n      <td>28</td>\n    </tr>\n    <tr>\n      <th>13</th>\n      <td>Newcastle</td>\n      <td>26</td>\n      <td>33</td>\n    </tr>\n    <tr>\n      <th>14</th>\n      <td>Sheffield Utd</td>\n      <td>12</td>\n      <td>27</td>\n    </tr>\n    <tr>\n      <th>15</th>\n      <td>Southampton</td>\n      <td>28</td>\n      <td>25</td>\n    </tr>\n    <tr>\n      <th>16</th>\n      <td>Tottenham</td>\n      <td>35</td>\n      <td>20</td>\n    </tr>\n    <tr>\n      <th>17</th>\n      <td>West Brom</td>\n      <td>15</td>\n      <td>39</td>\n    </tr>\n    <tr>\n      <th>18</th>\n      <td>West Ham</td>\n      <td>32</td>\n      <td>22</td>\n    </tr>\n    <tr>\n      <th>19</th>\n      <td>Wolves</td>\n      <td>21</td>\n      <td>25</td>\n    </tr>\n  </tbody>\n</table>\n</div>"
     },
     "execution_count": 32,
     "metadata": {},
     "output_type": "execute_result"
    }
   ],
   "source": [
    "host_df = df.groupby('host').agg('sum').reset_index()\n",
    "host_df.drop(labels=['round'], axis=1)"
   ]
  },
  {
   "cell_type": "code",
   "execution_count": 33,
   "outputs": [
    {
     "data": {
      "text/plain": "               hosted  goals_host  goals_hosted\n0             Arsenal          18            31\n1         Aston Villa          19            26\n2            Brighton          24            18\n3             Burnley          28            19\n4             Chelsea          18            27\n5      Crystal Palace          34            21\n6             Everton          20            23\n7              Fulham          25            18\n8               Leeds          33            34\n9           Leicester          20            34\n10          Liverpool          22            39\n11    Manchester City          15            40\n12  Manchester United          16            35\n13          Newcastle          29            20\n14      Sheffield Utd          36             8\n15        Southampton          43            19\n16          Tottenham          25            33\n17          West Brom          37            20\n18           West Ham          25            30\n19             Wolves          27            15",
      "text/html": "<div>\n<style scoped>\n    .dataframe tbody tr th:only-of-type {\n        vertical-align: middle;\n    }\n\n    .dataframe tbody tr th {\n        vertical-align: top;\n    }\n\n    .dataframe thead th {\n        text-align: right;\n    }\n</style>\n<table border=\"1\" class=\"dataframe\">\n  <thead>\n    <tr style=\"text-align: right;\">\n      <th></th>\n      <th>hosted</th>\n      <th>goals_host</th>\n      <th>goals_hosted</th>\n    </tr>\n  </thead>\n  <tbody>\n    <tr>\n      <th>0</th>\n      <td>Arsenal</td>\n      <td>18</td>\n      <td>31</td>\n    </tr>\n    <tr>\n      <th>1</th>\n      <td>Aston Villa</td>\n      <td>19</td>\n      <td>26</td>\n    </tr>\n    <tr>\n      <th>2</th>\n      <td>Brighton</td>\n      <td>24</td>\n      <td>18</td>\n    </tr>\n    <tr>\n      <th>3</th>\n      <td>Burnley</td>\n      <td>28</td>\n      <td>19</td>\n    </tr>\n    <tr>\n      <th>4</th>\n      <td>Chelsea</td>\n      <td>18</td>\n      <td>27</td>\n    </tr>\n    <tr>\n      <th>5</th>\n      <td>Crystal Palace</td>\n      <td>34</td>\n      <td>21</td>\n    </tr>\n    <tr>\n      <th>6</th>\n      <td>Everton</td>\n      <td>20</td>\n      <td>23</td>\n    </tr>\n    <tr>\n      <th>7</th>\n      <td>Fulham</td>\n      <td>25</td>\n      <td>18</td>\n    </tr>\n    <tr>\n      <th>8</th>\n      <td>Leeds</td>\n      <td>33</td>\n      <td>34</td>\n    </tr>\n    <tr>\n      <th>9</th>\n      <td>Leicester</td>\n      <td>20</td>\n      <td>34</td>\n    </tr>\n    <tr>\n      <th>10</th>\n      <td>Liverpool</td>\n      <td>22</td>\n      <td>39</td>\n    </tr>\n    <tr>\n      <th>11</th>\n      <td>Manchester City</td>\n      <td>15</td>\n      <td>40</td>\n    </tr>\n    <tr>\n      <th>12</th>\n      <td>Manchester United</td>\n      <td>16</td>\n      <td>35</td>\n    </tr>\n    <tr>\n      <th>13</th>\n      <td>Newcastle</td>\n      <td>29</td>\n      <td>20</td>\n    </tr>\n    <tr>\n      <th>14</th>\n      <td>Sheffield Utd</td>\n      <td>36</td>\n      <td>8</td>\n    </tr>\n    <tr>\n      <th>15</th>\n      <td>Southampton</td>\n      <td>43</td>\n      <td>19</td>\n    </tr>\n    <tr>\n      <th>16</th>\n      <td>Tottenham</td>\n      <td>25</td>\n      <td>33</td>\n    </tr>\n    <tr>\n      <th>17</th>\n      <td>West Brom</td>\n      <td>37</td>\n      <td>20</td>\n    </tr>\n    <tr>\n      <th>18</th>\n      <td>West Ham</td>\n      <td>25</td>\n      <td>30</td>\n    </tr>\n    <tr>\n      <th>19</th>\n      <td>Wolves</td>\n      <td>27</td>\n      <td>15</td>\n    </tr>\n  </tbody>\n</table>\n</div>"
     },
     "execution_count": 33,
     "metadata": {},
     "output_type": "execute_result"
    }
   ],
   "source": [
    "hosted_df = df.groupby('hosted').agg('sum').reset_index()\n",
    "hosted_df.drop(labels=['round'], axis=1)"
   ],
   "metadata": {
    "collapsed": false,
    "pycharm": {
     "name": "#%%\n"
    }
   }
  },
  {
   "cell_type": "code",
   "execution_count": 34,
   "metadata": {
    "pycharm": {
     "name": "#%%\n"
    }
   },
   "outputs": [
    {
     "data": {
      "text/plain": "                 team  GF_tot  GA_tot  GF_as_host  GA_as_host  GF_as_hosted  \\\n0             Arsenal      55      39          24          21            31   \n1         Aston Villa      55      46          29          27            26   \n2            Brighton      40      46          22          22            18   \n3             Burnley      33      55          14          27            19   \n4             Chelsea      58      36          31          18            27   \n5      Crystal Palace      41      66          20          32            21   \n6             Everton      47      48          24          28            23   \n7              Fulham      27      53           9          28            18   \n8               Leeds      62      54          28          21            34   \n9           Leicester      68      50          34          30            34   \n10          Liverpool      68      42          29          20            39   \n11    Manchester City      83      32          43          17            40   \n12  Manchester United      73      44          38          28            35   \n13          Newcastle      46      62          26          33            20   \n14      Sheffield Utd      20      63          12          27             8   \n15        Southampton      47      68          28          25            19   \n16          Tottenham      68      45          35          20            33   \n17          West Brom      35      76          15          39            20   \n18           West Ham      62      47          32          22            30   \n19             Wolves      36      52          21          25            15   \n\n    GA_as_hosted  \n0             18  \n1             19  \n2             24  \n3             28  \n4             18  \n5             34  \n6             20  \n7             25  \n8             33  \n9             20  \n10            22  \n11            15  \n12            16  \n13            29  \n14            36  \n15            43  \n16            25  \n17            37  \n18            25  \n19            27  ",
      "text/html": "<div>\n<style scoped>\n    .dataframe tbody tr th:only-of-type {\n        vertical-align: middle;\n    }\n\n    .dataframe tbody tr th {\n        vertical-align: top;\n    }\n\n    .dataframe thead th {\n        text-align: right;\n    }\n</style>\n<table border=\"1\" class=\"dataframe\">\n  <thead>\n    <tr style=\"text-align: right;\">\n      <th></th>\n      <th>team</th>\n      <th>GF_tot</th>\n      <th>GA_tot</th>\n      <th>GF_as_host</th>\n      <th>GA_as_host</th>\n      <th>GF_as_hosted</th>\n      <th>GA_as_hosted</th>\n    </tr>\n  </thead>\n  <tbody>\n    <tr>\n      <th>0</th>\n      <td>Arsenal</td>\n      <td>55</td>\n      <td>39</td>\n      <td>24</td>\n      <td>21</td>\n      <td>31</td>\n      <td>18</td>\n    </tr>\n    <tr>\n      <th>1</th>\n      <td>Aston Villa</td>\n      <td>55</td>\n      <td>46</td>\n      <td>29</td>\n      <td>27</td>\n      <td>26</td>\n      <td>19</td>\n    </tr>\n    <tr>\n      <th>2</th>\n      <td>Brighton</td>\n      <td>40</td>\n      <td>46</td>\n      <td>22</td>\n      <td>22</td>\n      <td>18</td>\n      <td>24</td>\n    </tr>\n    <tr>\n      <th>3</th>\n      <td>Burnley</td>\n      <td>33</td>\n      <td>55</td>\n      <td>14</td>\n      <td>27</td>\n      <td>19</td>\n      <td>28</td>\n    </tr>\n    <tr>\n      <th>4</th>\n      <td>Chelsea</td>\n      <td>58</td>\n      <td>36</td>\n      <td>31</td>\n      <td>18</td>\n      <td>27</td>\n      <td>18</td>\n    </tr>\n    <tr>\n      <th>5</th>\n      <td>Crystal Palace</td>\n      <td>41</td>\n      <td>66</td>\n      <td>20</td>\n      <td>32</td>\n      <td>21</td>\n      <td>34</td>\n    </tr>\n    <tr>\n      <th>6</th>\n      <td>Everton</td>\n      <td>47</td>\n      <td>48</td>\n      <td>24</td>\n      <td>28</td>\n      <td>23</td>\n      <td>20</td>\n    </tr>\n    <tr>\n      <th>7</th>\n      <td>Fulham</td>\n      <td>27</td>\n      <td>53</td>\n      <td>9</td>\n      <td>28</td>\n      <td>18</td>\n      <td>25</td>\n    </tr>\n    <tr>\n      <th>8</th>\n      <td>Leeds</td>\n      <td>62</td>\n      <td>54</td>\n      <td>28</td>\n      <td>21</td>\n      <td>34</td>\n      <td>33</td>\n    </tr>\n    <tr>\n      <th>9</th>\n      <td>Leicester</td>\n      <td>68</td>\n      <td>50</td>\n      <td>34</td>\n      <td>30</td>\n      <td>34</td>\n      <td>20</td>\n    </tr>\n    <tr>\n      <th>10</th>\n      <td>Liverpool</td>\n      <td>68</td>\n      <td>42</td>\n      <td>29</td>\n      <td>20</td>\n      <td>39</td>\n      <td>22</td>\n    </tr>\n    <tr>\n      <th>11</th>\n      <td>Manchester City</td>\n      <td>83</td>\n      <td>32</td>\n      <td>43</td>\n      <td>17</td>\n      <td>40</td>\n      <td>15</td>\n    </tr>\n    <tr>\n      <th>12</th>\n      <td>Manchester United</td>\n      <td>73</td>\n      <td>44</td>\n      <td>38</td>\n      <td>28</td>\n      <td>35</td>\n      <td>16</td>\n    </tr>\n    <tr>\n      <th>13</th>\n      <td>Newcastle</td>\n      <td>46</td>\n      <td>62</td>\n      <td>26</td>\n      <td>33</td>\n      <td>20</td>\n      <td>29</td>\n    </tr>\n    <tr>\n      <th>14</th>\n      <td>Sheffield Utd</td>\n      <td>20</td>\n      <td>63</td>\n      <td>12</td>\n      <td>27</td>\n      <td>8</td>\n      <td>36</td>\n    </tr>\n    <tr>\n      <th>15</th>\n      <td>Southampton</td>\n      <td>47</td>\n      <td>68</td>\n      <td>28</td>\n      <td>25</td>\n      <td>19</td>\n      <td>43</td>\n    </tr>\n    <tr>\n      <th>16</th>\n      <td>Tottenham</td>\n      <td>68</td>\n      <td>45</td>\n      <td>35</td>\n      <td>20</td>\n      <td>33</td>\n      <td>25</td>\n    </tr>\n    <tr>\n      <th>17</th>\n      <td>West Brom</td>\n      <td>35</td>\n      <td>76</td>\n      <td>15</td>\n      <td>39</td>\n      <td>20</td>\n      <td>37</td>\n    </tr>\n    <tr>\n      <th>18</th>\n      <td>West Ham</td>\n      <td>62</td>\n      <td>47</td>\n      <td>32</td>\n      <td>22</td>\n      <td>30</td>\n      <td>25</td>\n    </tr>\n    <tr>\n      <th>19</th>\n      <td>Wolves</td>\n      <td>36</td>\n      <td>52</td>\n      <td>21</td>\n      <td>25</td>\n      <td>15</td>\n      <td>27</td>\n    </tr>\n  </tbody>\n</table>\n</div>"
     },
     "execution_count": 34,
     "metadata": {},
     "output_type": "execute_result"
    }
   ],
   "source": [
    "results = DataFrame(data={\"team\": host_df.host,\n",
    "                          \"GF_tot\": host_df.goals_host + hosted_df.goals_hosted,\n",
    "                          \"GA_tot\": host_df.goals_hosted + hosted_df.goals_host,\n",
    "                          \"GF_as_host\": host_df.goals_host,\n",
    "                          \"GA_as_host\": host_df.goals_hosted,\n",
    "                          \"GF_as_hosted\": hosted_df.goals_hosted,\n",
    "                          \"GA_as_hosted\": hosted_df.goals_host,\n",
    "                          })\n",
    "results.sort_values(by=['team'], ascending=True)"
   ]
  },
  {
   "cell_type": "code",
   "execution_count": 34,
   "outputs": [],
   "source": [],
   "metadata": {
    "collapsed": false,
    "pycharm": {
     "name": "#%%\n"
    }
   }
  }
 ],
 "metadata": {
  "kernelspec": {
   "display_name": "Python 3 (ipykernel)",
   "language": "python",
   "name": "python3"
  },
  "language_info": {
   "codemirror_mode": {
    "name": "ipython",
    "version": 3
   },
   "file_extension": ".py",
   "mimetype": "text/x-python",
   "name": "python",
   "nbconvert_exporter": "python",
   "pygments_lexer": "ipython3",
   "version": "3.8.10"
  }
 },
 "nbformat": 4,
 "nbformat_minor": 1
}