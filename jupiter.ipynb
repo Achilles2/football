{
 "cells": [
  {
   "cell_type": "code",
   "execution_count": 1,
   "metadata": {},
   "outputs": [],
   "source": [
    "from pandas import DataFrame\n",
    "from utils import round_num, is_allowed_round, response_from_json\n",
    "\n",
    "FILE_NAME = 'league39_season2020.json'\n",
    "response = response_from_json(file_name=FILE_NAME)"
   ]
  },
  {
   "cell_type": "code",
   "execution_count": 2,
   "metadata": {
    "pycharm": {
     "name": "#%%\n"
    }
   },
   "outputs": [],
   "source": [
    "all_games = []\n",
    "games_requested = []\n",
    "for game in response:\n",
    "    host = game[\"teams\"][\"home\"]['name']\n",
    "    hosted = game[\"teams\"][\"away\"]['name']\n",
    "    goals_host = game[\"goals\"][\"home\"]\n",
    "    goals_hosted = game[\"goals\"][\"away\"]\n",
    "\n",
    "    round_str = game[\"league\"][\"round\"]\n",
    "    round_n = round_num(round_str=round_str)\n",
    "\n",
    "    all_games.append(\n",
    "        [host, hosted, goals_host, goals_hosted, round_n])\n",
    "    \n",
    "    if is_allowed_round(round_n):\n",
    "        games_requested.append([host, hosted, goals_host, goals_hosted, round_n])\n",
    "\n",
    "all_games;"
   ]
  },
  {
   "cell_type": "code",
   "execution_count": 3,
   "metadata": {
    "pycharm": {
     "name": "#%%\n"
    }
   },
   "outputs": [
    {
     "data": {
      "text/plain": "                  host          hosted  goals_host  goals_hosted  round\n0          Aston Villa     Southampton           3             4      7\n1              Burnley         Chelsea           0             3      7\n2               Fulham       West Brom           2             0      7\n3                Leeds       Leicester           1             4      7\n4            Liverpool        West Ham           2             1      7\n..                 ...             ...         ...           ...    ...\n255          Leicester       West Brom           3             0     32\n256  Manchester United         Burnley           3             1     32\n257          Newcastle        West Ham           3             2     32\n258        Southampton  Crystal Palace           3             1     32\n259             Wolves   Sheffield Utd           1             0     32\n\n[260 rows x 5 columns]",
      "text/html": "<div>\n<style scoped>\n    .dataframe tbody tr th:only-of-type {\n        vertical-align: middle;\n    }\n\n    .dataframe tbody tr th {\n        vertical-align: top;\n    }\n\n    .dataframe thead th {\n        text-align: right;\n    }\n</style>\n<table border=\"1\" class=\"dataframe\">\n  <thead>\n    <tr style=\"text-align: right;\">\n      <th></th>\n      <th>host</th>\n      <th>hosted</th>\n      <th>goals_host</th>\n      <th>goals_hosted</th>\n      <th>round</th>\n    </tr>\n  </thead>\n  <tbody>\n    <tr>\n      <th>0</th>\n      <td>Aston Villa</td>\n      <td>Southampton</td>\n      <td>3</td>\n      <td>4</td>\n      <td>7</td>\n    </tr>\n    <tr>\n      <th>1</th>\n      <td>Burnley</td>\n      <td>Chelsea</td>\n      <td>0</td>\n      <td>3</td>\n      <td>7</td>\n    </tr>\n    <tr>\n      <th>2</th>\n      <td>Fulham</td>\n      <td>West Brom</td>\n      <td>2</td>\n      <td>0</td>\n      <td>7</td>\n    </tr>\n    <tr>\n      <th>3</th>\n      <td>Leeds</td>\n      <td>Leicester</td>\n      <td>1</td>\n      <td>4</td>\n      <td>7</td>\n    </tr>\n    <tr>\n      <th>4</th>\n      <td>Liverpool</td>\n      <td>West Ham</td>\n      <td>2</td>\n      <td>1</td>\n      <td>7</td>\n    </tr>\n    <tr>\n      <th>...</th>\n      <td>...</td>\n      <td>...</td>\n      <td>...</td>\n      <td>...</td>\n      <td>...</td>\n    </tr>\n    <tr>\n      <th>255</th>\n      <td>Leicester</td>\n      <td>West Brom</td>\n      <td>3</td>\n      <td>0</td>\n      <td>32</td>\n    </tr>\n    <tr>\n      <th>256</th>\n      <td>Manchester United</td>\n      <td>Burnley</td>\n      <td>3</td>\n      <td>1</td>\n      <td>32</td>\n    </tr>\n    <tr>\n      <th>257</th>\n      <td>Newcastle</td>\n      <td>West Ham</td>\n      <td>3</td>\n      <td>2</td>\n      <td>32</td>\n    </tr>\n    <tr>\n      <th>258</th>\n      <td>Southampton</td>\n      <td>Crystal Palace</td>\n      <td>3</td>\n      <td>1</td>\n      <td>32</td>\n    </tr>\n    <tr>\n      <th>259</th>\n      <td>Wolves</td>\n      <td>Sheffield Utd</td>\n      <td>1</td>\n      <td>0</td>\n      <td>32</td>\n    </tr>\n  </tbody>\n</table>\n<p>260 rows × 5 columns</p>\n</div>"
     },
     "execution_count": 3,
     "metadata": {},
     "output_type": "execute_result"
    }
   ],
   "source": [
    "df = DataFrame(games_requested, columns=['host', 'hosted', 'goals_host', 'goals_hosted', 'round'])\n",
    "df"
   ]
  },
  {
   "cell_type": "code",
   "execution_count": 4,
   "metadata": {
    "pycharm": {
     "name": "#%%\n"
    }
   },
   "outputs": [
    {
     "data": {
      "text/plain": "                 host  goals_host  goals_hosted\n0             Arsenal          15            16\n1         Aston Villa          16            16\n2            Brighton          12            12\n3             Burnley          13            15\n4             Chelsea          20            11\n5      Crystal Palace          13            22\n6             Everton          11            19\n7              Fulham           8            15\n8               Leeds          17            14\n9           Leicester          24            15\n10          Liverpool          15            14\n11    Manchester City          27             8\n12  Manchester United          32            12\n13          Newcastle          18            19\n14      Sheffield Utd           9            21\n15        Southampton          18            16\n16          Tottenham          24            13\n17          West Brom           9            27\n18           West Ham          24            17\n19             Wolves          15            14",
      "text/html": "<div>\n<style scoped>\n    .dataframe tbody tr th:only-of-type {\n        vertical-align: middle;\n    }\n\n    .dataframe tbody tr th {\n        vertical-align: top;\n    }\n\n    .dataframe thead th {\n        text-align: right;\n    }\n</style>\n<table border=\"1\" class=\"dataframe\">\n  <thead>\n    <tr style=\"text-align: right;\">\n      <th></th>\n      <th>host</th>\n      <th>goals_host</th>\n      <th>goals_hosted</th>\n    </tr>\n  </thead>\n  <tbody>\n    <tr>\n      <th>0</th>\n      <td>Arsenal</td>\n      <td>15</td>\n      <td>16</td>\n    </tr>\n    <tr>\n      <th>1</th>\n      <td>Aston Villa</td>\n      <td>16</td>\n      <td>16</td>\n    </tr>\n    <tr>\n      <th>2</th>\n      <td>Brighton</td>\n      <td>12</td>\n      <td>12</td>\n    </tr>\n    <tr>\n      <th>3</th>\n      <td>Burnley</td>\n      <td>13</td>\n      <td>15</td>\n    </tr>\n    <tr>\n      <th>4</th>\n      <td>Chelsea</td>\n      <td>20</td>\n      <td>11</td>\n    </tr>\n    <tr>\n      <th>5</th>\n      <td>Crystal Palace</td>\n      <td>13</td>\n      <td>22</td>\n    </tr>\n    <tr>\n      <th>6</th>\n      <td>Everton</td>\n      <td>11</td>\n      <td>19</td>\n    </tr>\n    <tr>\n      <th>7</th>\n      <td>Fulham</td>\n      <td>8</td>\n      <td>15</td>\n    </tr>\n    <tr>\n      <th>8</th>\n      <td>Leeds</td>\n      <td>17</td>\n      <td>14</td>\n    </tr>\n    <tr>\n      <th>9</th>\n      <td>Leicester</td>\n      <td>24</td>\n      <td>15</td>\n    </tr>\n    <tr>\n      <th>10</th>\n      <td>Liverpool</td>\n      <td>15</td>\n      <td>14</td>\n    </tr>\n    <tr>\n      <th>11</th>\n      <td>Manchester City</td>\n      <td>27</td>\n      <td>8</td>\n    </tr>\n    <tr>\n      <th>12</th>\n      <td>Manchester United</td>\n      <td>32</td>\n      <td>12</td>\n    </tr>\n    <tr>\n      <th>13</th>\n      <td>Newcastle</td>\n      <td>18</td>\n      <td>19</td>\n    </tr>\n    <tr>\n      <th>14</th>\n      <td>Sheffield Utd</td>\n      <td>9</td>\n      <td>21</td>\n    </tr>\n    <tr>\n      <th>15</th>\n      <td>Southampton</td>\n      <td>18</td>\n      <td>16</td>\n    </tr>\n    <tr>\n      <th>16</th>\n      <td>Tottenham</td>\n      <td>24</td>\n      <td>13</td>\n    </tr>\n    <tr>\n      <th>17</th>\n      <td>West Brom</td>\n      <td>9</td>\n      <td>27</td>\n    </tr>\n    <tr>\n      <th>18</th>\n      <td>West Ham</td>\n      <td>24</td>\n      <td>17</td>\n    </tr>\n    <tr>\n      <th>19</th>\n      <td>Wolves</td>\n      <td>15</td>\n      <td>14</td>\n    </tr>\n  </tbody>\n</table>\n</div>"
     },
     "execution_count": 4,
     "metadata": {},
     "output_type": "execute_result"
    }
   ],
   "source": [
    "host_df = df.groupby('host').agg('sum').reset_index()\n",
    "host_df.drop(labels=['round'], axis=1)"
   ]
  },
  {
   "cell_type": "code",
   "execution_count": 5,
   "metadata": {
    "pycharm": {
     "name": "#%%\n"
    }
   },
   "outputs": [
    {
     "data": {
      "text/plain": "               hosted  goals_host  goals_hosted\n0             Arsenal          13            21\n1         Aston Villa          12            16\n2            Brighton          14            11\n3             Burnley          20            10\n4             Chelsea          11            17\n5      Crystal Palace          24            13\n6             Everton          12            18\n7              Fulham          13            12\n8               Leeds          27            21\n9           Leicester          14            21\n10          Liverpool          10            24\n11    Manchester City           6            27\n12  Manchester United          11            22\n13          Newcastle          24             9\n14      Sheffield Utd          26             5\n15        Southampton          29            13\n16          Tottenham          17            15\n17          West Brom          21            13\n18           West Ham          17            17\n19             Wolves          19            11",
      "text/html": "<div>\n<style scoped>\n    .dataframe tbody tr th:only-of-type {\n        vertical-align: middle;\n    }\n\n    .dataframe tbody tr th {\n        vertical-align: top;\n    }\n\n    .dataframe thead th {\n        text-align: right;\n    }\n</style>\n<table border=\"1\" class=\"dataframe\">\n  <thead>\n    <tr style=\"text-align: right;\">\n      <th></th>\n      <th>hosted</th>\n      <th>goals_host</th>\n      <th>goals_hosted</th>\n    </tr>\n  </thead>\n  <tbody>\n    <tr>\n      <th>0</th>\n      <td>Arsenal</td>\n      <td>13</td>\n      <td>21</td>\n    </tr>\n    <tr>\n      <th>1</th>\n      <td>Aston Villa</td>\n      <td>12</td>\n      <td>16</td>\n    </tr>\n    <tr>\n      <th>2</th>\n      <td>Brighton</td>\n      <td>14</td>\n      <td>11</td>\n    </tr>\n    <tr>\n      <th>3</th>\n      <td>Burnley</td>\n      <td>20</td>\n      <td>10</td>\n    </tr>\n    <tr>\n      <th>4</th>\n      <td>Chelsea</td>\n      <td>11</td>\n      <td>17</td>\n    </tr>\n    <tr>\n      <th>5</th>\n      <td>Crystal Palace</td>\n      <td>24</td>\n      <td>13</td>\n    </tr>\n    <tr>\n      <th>6</th>\n      <td>Everton</td>\n      <td>12</td>\n      <td>18</td>\n    </tr>\n    <tr>\n      <th>7</th>\n      <td>Fulham</td>\n      <td>13</td>\n      <td>12</td>\n    </tr>\n    <tr>\n      <th>8</th>\n      <td>Leeds</td>\n      <td>27</td>\n      <td>21</td>\n    </tr>\n    <tr>\n      <th>9</th>\n      <td>Leicester</td>\n      <td>14</td>\n      <td>21</td>\n    </tr>\n    <tr>\n      <th>10</th>\n      <td>Liverpool</td>\n      <td>10</td>\n      <td>24</td>\n    </tr>\n    <tr>\n      <th>11</th>\n      <td>Manchester City</td>\n      <td>6</td>\n      <td>27</td>\n    </tr>\n    <tr>\n      <th>12</th>\n      <td>Manchester United</td>\n      <td>11</td>\n      <td>22</td>\n    </tr>\n    <tr>\n      <th>13</th>\n      <td>Newcastle</td>\n      <td>24</td>\n      <td>9</td>\n    </tr>\n    <tr>\n      <th>14</th>\n      <td>Sheffield Utd</td>\n      <td>26</td>\n      <td>5</td>\n    </tr>\n    <tr>\n      <th>15</th>\n      <td>Southampton</td>\n      <td>29</td>\n      <td>13</td>\n    </tr>\n    <tr>\n      <th>16</th>\n      <td>Tottenham</td>\n      <td>17</td>\n      <td>15</td>\n    </tr>\n    <tr>\n      <th>17</th>\n      <td>West Brom</td>\n      <td>21</td>\n      <td>13</td>\n    </tr>\n    <tr>\n      <th>18</th>\n      <td>West Ham</td>\n      <td>17</td>\n      <td>17</td>\n    </tr>\n    <tr>\n      <th>19</th>\n      <td>Wolves</td>\n      <td>19</td>\n      <td>11</td>\n    </tr>\n  </tbody>\n</table>\n</div>"
     },
     "execution_count": 5,
     "metadata": {},
     "output_type": "execute_result"
    }
   ],
   "source": [
    "hosted_df = df.groupby('hosted').agg('sum').reset_index()\n",
    "hosted_df.drop(labels=['round'], axis=1)"
   ]
  },
  {
   "cell_type": "code",
   "execution_count": 6,
   "metadata": {
    "pycharm": {
     "name": "#%%\n"
    }
   },
   "outputs": [
    {
     "data": {
      "text/plain": "                 team  GF_tot  GA_tot  GF_as_host  GA_as_host  GF_as_hosted  \\\n0             Arsenal      36      29          15          16            21   \n1         Aston Villa      32      28          16          16            16   \n2            Brighton      23      26          12          12            11   \n3             Burnley      23      35          13          15            10   \n4             Chelsea      37      22          20          11            17   \n5      Crystal Palace      26      46          13          22            13   \n6             Everton      29      31          11          19            18   \n7              Fulham      20      28           8          15            12   \n8               Leeds      38      41          17          14            21   \n9           Leicester      45      29          24          15            21   \n10          Liverpool      39      24          15          14            24   \n11    Manchester City      54      14          27           8            27   \n12  Manchester United      54      23          32          12            22   \n13          Newcastle      27      43          18          19             9   \n14      Sheffield Utd      14      47           9          21             5   \n15        Southampton      31      45          18          16            13   \n16          Tottenham      39      30          24          13            15   \n17          West Brom      22      48           9          27            13   \n18           West Ham      41      34          24          17            17   \n19             Wolves      26      33          15          14            11   \n\n    GA_as_hosted  \n0             13  \n1             12  \n2             14  \n3             20  \n4             11  \n5             24  \n6             12  \n7             13  \n8             27  \n9             14  \n10            10  \n11             6  \n12            11  \n13            24  \n14            26  \n15            29  \n16            17  \n17            21  \n18            17  \n19            19  ",
      "text/html": "<div>\n<style scoped>\n    .dataframe tbody tr th:only-of-type {\n        vertical-align: middle;\n    }\n\n    .dataframe tbody tr th {\n        vertical-align: top;\n    }\n\n    .dataframe thead th {\n        text-align: right;\n    }\n</style>\n<table border=\"1\" class=\"dataframe\">\n  <thead>\n    <tr style=\"text-align: right;\">\n      <th></th>\n      <th>team</th>\n      <th>GF_tot</th>\n      <th>GA_tot</th>\n      <th>GF_as_host</th>\n      <th>GA_as_host</th>\n      <th>GF_as_hosted</th>\n      <th>GA_as_hosted</th>\n    </tr>\n  </thead>\n  <tbody>\n    <tr>\n      <th>0</th>\n      <td>Arsenal</td>\n      <td>36</td>\n      <td>29</td>\n      <td>15</td>\n      <td>16</td>\n      <td>21</td>\n      <td>13</td>\n    </tr>\n    <tr>\n      <th>1</th>\n      <td>Aston Villa</td>\n      <td>32</td>\n      <td>28</td>\n      <td>16</td>\n      <td>16</td>\n      <td>16</td>\n      <td>12</td>\n    </tr>\n    <tr>\n      <th>2</th>\n      <td>Brighton</td>\n      <td>23</td>\n      <td>26</td>\n      <td>12</td>\n      <td>12</td>\n      <td>11</td>\n      <td>14</td>\n    </tr>\n    <tr>\n      <th>3</th>\n      <td>Burnley</td>\n      <td>23</td>\n      <td>35</td>\n      <td>13</td>\n      <td>15</td>\n      <td>10</td>\n      <td>20</td>\n    </tr>\n    <tr>\n      <th>4</th>\n      <td>Chelsea</td>\n      <td>37</td>\n      <td>22</td>\n      <td>20</td>\n      <td>11</td>\n      <td>17</td>\n      <td>11</td>\n    </tr>\n    <tr>\n      <th>5</th>\n      <td>Crystal Palace</td>\n      <td>26</td>\n      <td>46</td>\n      <td>13</td>\n      <td>22</td>\n      <td>13</td>\n      <td>24</td>\n    </tr>\n    <tr>\n      <th>6</th>\n      <td>Everton</td>\n      <td>29</td>\n      <td>31</td>\n      <td>11</td>\n      <td>19</td>\n      <td>18</td>\n      <td>12</td>\n    </tr>\n    <tr>\n      <th>7</th>\n      <td>Fulham</td>\n      <td>20</td>\n      <td>28</td>\n      <td>8</td>\n      <td>15</td>\n      <td>12</td>\n      <td>13</td>\n    </tr>\n    <tr>\n      <th>8</th>\n      <td>Leeds</td>\n      <td>38</td>\n      <td>41</td>\n      <td>17</td>\n      <td>14</td>\n      <td>21</td>\n      <td>27</td>\n    </tr>\n    <tr>\n      <th>9</th>\n      <td>Leicester</td>\n      <td>45</td>\n      <td>29</td>\n      <td>24</td>\n      <td>15</td>\n      <td>21</td>\n      <td>14</td>\n    </tr>\n    <tr>\n      <th>10</th>\n      <td>Liverpool</td>\n      <td>39</td>\n      <td>24</td>\n      <td>15</td>\n      <td>14</td>\n      <td>24</td>\n      <td>10</td>\n    </tr>\n    <tr>\n      <th>11</th>\n      <td>Manchester City</td>\n      <td>54</td>\n      <td>14</td>\n      <td>27</td>\n      <td>8</td>\n      <td>27</td>\n      <td>6</td>\n    </tr>\n    <tr>\n      <th>12</th>\n      <td>Manchester United</td>\n      <td>54</td>\n      <td>23</td>\n      <td>32</td>\n      <td>12</td>\n      <td>22</td>\n      <td>11</td>\n    </tr>\n    <tr>\n      <th>13</th>\n      <td>Newcastle</td>\n      <td>27</td>\n      <td>43</td>\n      <td>18</td>\n      <td>19</td>\n      <td>9</td>\n      <td>24</td>\n    </tr>\n    <tr>\n      <th>14</th>\n      <td>Sheffield Utd</td>\n      <td>14</td>\n      <td>47</td>\n      <td>9</td>\n      <td>21</td>\n      <td>5</td>\n      <td>26</td>\n    </tr>\n    <tr>\n      <th>15</th>\n      <td>Southampton</td>\n      <td>31</td>\n      <td>45</td>\n      <td>18</td>\n      <td>16</td>\n      <td>13</td>\n      <td>29</td>\n    </tr>\n    <tr>\n      <th>16</th>\n      <td>Tottenham</td>\n      <td>39</td>\n      <td>30</td>\n      <td>24</td>\n      <td>13</td>\n      <td>15</td>\n      <td>17</td>\n    </tr>\n    <tr>\n      <th>17</th>\n      <td>West Brom</td>\n      <td>22</td>\n      <td>48</td>\n      <td>9</td>\n      <td>27</td>\n      <td>13</td>\n      <td>21</td>\n    </tr>\n    <tr>\n      <th>18</th>\n      <td>West Ham</td>\n      <td>41</td>\n      <td>34</td>\n      <td>24</td>\n      <td>17</td>\n      <td>17</td>\n      <td>17</td>\n    </tr>\n    <tr>\n      <th>19</th>\n      <td>Wolves</td>\n      <td>26</td>\n      <td>33</td>\n      <td>15</td>\n      <td>14</td>\n      <td>11</td>\n      <td>19</td>\n    </tr>\n  </tbody>\n</table>\n</div>"
     },
     "execution_count": 6,
     "metadata": {},
     "output_type": "execute_result"
    }
   ],
   "source": [
    "results = DataFrame(data={\"team\": host_df.host,\n",
    "                          \"GF_tot\": host_df.goals_host + hosted_df.goals_hosted,\n",
    "                          \"GA_tot\": host_df.goals_hosted + hosted_df.goals_host,\n",
    "                          \"GF_as_host\": host_df.goals_host,\n",
    "                          \"GA_as_host\": host_df.goals_hosted,\n",
    "                          \"GF_as_hosted\": hosted_df.goals_hosted,\n",
    "                          \"GA_as_hosted\": hosted_df.goals_host,\n",
    "                          })\n",
    "results.sort_values(by=['team'], ascending=True)"
   ]
  },
  {
   "cell_type": "code",
   "execution_count": 6,
   "metadata": {
    "pycharm": {
     "name": "#%%\n"
    }
   },
   "outputs": [],
   "source": []
  }
 ],
 "metadata": {
  "kernelspec": {
   "display_name": "Python 3 (ipykernel)",
   "language": "python",
   "name": "python3"
  },
  "language_info": {
   "codemirror_mode": {
    "name": "ipython",
    "version": 3
   },
   "file_extension": ".py",
   "mimetype": "text/x-python",
   "name": "python",
   "nbconvert_exporter": "python",
   "pygments_lexer": "ipython3",
   "version": "3.8.10"
  }
 },
 "nbformat": 4,
 "nbformat_minor": 1
}